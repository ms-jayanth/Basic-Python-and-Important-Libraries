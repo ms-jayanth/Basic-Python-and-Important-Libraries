{
 "cells": [
  {
   "cell_type": "markdown",
   "id": "1dfcde44",
   "metadata": {},
   "source": [
    "# Numpy "
   ]
  },
  {
   "cell_type": "markdown",
   "id": "9e9736f0",
   "metadata": {},
   "source": [
    "### Why Numpy?\n",
    "\n",
    "* NumPy can be used to perform a wide veriety of **mathematical operations an array**\n",
    "* It adds powerful data structure to python that guarentee **efficient calculations with arrays and matrices** and it supplies an enormous library of **high-level mathematical functions** that operate on these arrays and matrices.\n"
   ]
  },
  {
   "cell_type": "code",
   "execution_count": 1,
   "id": "107c46af",
   "metadata": {},
   "outputs": [],
   "source": [
    "import numpy as np #Alias"
   ]
  },
  {
   "cell_type": "markdown",
   "id": "f3c2176d",
   "metadata": {},
   "source": [
    "### 1. Create 1D Array"
   ]
  },
  {
   "cell_type": "code",
   "execution_count": 2,
   "id": "9b8aa68e",
   "metadata": {},
   "outputs": [
    {
     "data": {
      "text/plain": [
       "array([1, 2, 3, 4, 5])"
      ]
     },
     "execution_count": 2,
     "metadata": {},
     "output_type": "execute_result"
    }
   ],
   "source": [
    "arr_1=np.array(object=[1,2,3,4,5], dtype=None)\n",
    "arr_1"
   ]
  },
  {
   "cell_type": "code",
   "execution_count": 3,
   "id": "94522802",
   "metadata": {},
   "outputs": [
    {
     "data": {
      "text/plain": [
       "[1, 2, 3, 4, 5]"
      ]
     },
     "execution_count": 3,
     "metadata": {},
     "output_type": "execute_result"
    }
   ],
   "source": [
    "a=[1,2,3,4,5]\n",
    "a"
   ]
  },
  {
   "cell_type": "code",
   "execution_count": 4,
   "id": "a49c2b13",
   "metadata": {},
   "outputs": [
    {
     "data": {
      "text/plain": [
       "list"
      ]
     },
     "execution_count": 4,
     "metadata": {},
     "output_type": "execute_result"
    }
   ],
   "source": [
    "type(a)"
   ]
  },
  {
   "cell_type": "code",
   "execution_count": 5,
   "id": "da395230",
   "metadata": {},
   "outputs": [
    {
     "data": {
      "text/plain": [
       "numpy.ndarray"
      ]
     },
     "execution_count": 5,
     "metadata": {},
     "output_type": "execute_result"
    }
   ],
   "source": [
    "type(arr_1) # nd: n dimentional"
   ]
  },
  {
   "cell_type": "code",
   "execution_count": 6,
   "id": "71886c06",
   "metadata": {},
   "outputs": [
    {
     "data": {
      "text/plain": [
       "1"
      ]
     },
     "execution_count": 6,
     "metadata": {},
     "output_type": "execute_result"
    }
   ],
   "source": [
    "arr_1.ndim # ndim: attribute"
   ]
  },
  {
   "cell_type": "markdown",
   "id": "b688f11e",
   "metadata": {},
   "source": [
    "### 2. Create 2D Array"
   ]
  },
  {
   "cell_type": "code",
   "execution_count": 7,
   "id": "fce4449d",
   "metadata": {},
   "outputs": [
    {
     "data": {
      "text/plain": [
       "array([[1, 2, 3, 4],\n",
       "       [5, 6, 7, 8]])"
      ]
     },
     "execution_count": 7,
     "metadata": {},
     "output_type": "execute_result"
    }
   ],
   "source": [
    "arr_2=np.array([[1,2,3,4],[5,6,7,8]])\n",
    "arr_2"
   ]
  },
  {
   "cell_type": "code",
   "execution_count": 8,
   "id": "8b97efc2",
   "metadata": {},
   "outputs": [
    {
     "data": {
      "text/plain": [
       "2"
      ]
     },
     "execution_count": 8,
     "metadata": {},
     "output_type": "execute_result"
    }
   ],
   "source": [
    "arr_2.ndim"
   ]
  },
  {
   "cell_type": "markdown",
   "id": "ddce139c",
   "metadata": {},
   "source": [
    "### 3. Create 3D Array"
   ]
  },
  {
   "cell_type": "code",
   "execution_count": 9,
   "id": "ed478b42",
   "metadata": {},
   "outputs": [
    {
     "data": {
      "text/plain": [
       "array([[[1, 2, 3, 4],\n",
       "        [5, 6, 7, 8]]])"
      ]
     },
     "execution_count": 9,
     "metadata": {},
     "output_type": "execute_result"
    }
   ],
   "source": [
    "arr_3=np.array([[[1,2,3,4],[5,6,7,8]]])\n",
    "arr_3"
   ]
  },
  {
   "cell_type": "code",
   "execution_count": 10,
   "id": "14de5541",
   "metadata": {},
   "outputs": [
    {
     "data": {
      "text/plain": [
       "3"
      ]
     },
     "execution_count": 10,
     "metadata": {},
     "output_type": "execute_result"
    }
   ],
   "source": [
    "arr_3.ndim"
   ]
  },
  {
   "cell_type": "markdown",
   "id": "dd147a2b",
   "metadata": {},
   "source": [
    "No. of square brackets we are going to give outside that determines the dimension of the particular array"
   ]
  },
  {
   "cell_type": "markdown",
   "id": "00191dc2",
   "metadata": {},
   "source": [
    "### 4. Differences between Lists and Array\n",
    "\n",
    "* Element wise operation can be done only in arrays not in list\n",
    "* List is hetrogenous and array is homogenous\n",
    "* Array to List conversion and also List to Array conversion is possible but dimension will be missed out."
   ]
  },
  {
   "cell_type": "code",
   "execution_count": 11,
   "id": "bf247fe4",
   "metadata": {},
   "outputs": [
    {
     "data": {
      "text/plain": [
       "[1, 2, 3, 4, 5]"
      ]
     },
     "execution_count": 11,
     "metadata": {},
     "output_type": "execute_result"
    }
   ],
   "source": [
    "list_1=[1,2,3,4,5]\n",
    "list_1"
   ]
  },
  {
   "cell_type": "code",
   "execution_count": 12,
   "id": "1550915a",
   "metadata": {},
   "outputs": [
    {
     "data": {
      "text/plain": [
       "array([1, 2, 3, 4, 5])"
      ]
     },
     "execution_count": 12,
     "metadata": {},
     "output_type": "execute_result"
    }
   ],
   "source": [
    "arr_1"
   ]
  },
  {
   "cell_type": "code",
   "execution_count": 13,
   "id": "994b528d",
   "metadata": {},
   "outputs": [
    {
     "ename": "TypeError",
     "evalue": "can only concatenate list (not \"int\") to list",
     "output_type": "error",
     "traceback": [
      "\u001b[1;31m---------------------------------------------------------------------------\u001b[0m",
      "\u001b[1;31mTypeError\u001b[0m                                 Traceback (most recent call last)",
      "\u001b[1;32m<ipython-input-13-1660b6a2d8eb>\u001b[0m in \u001b[0;36m<module>\u001b[1;34m\u001b[0m\n\u001b[1;32m----> 1\u001b[1;33m \u001b[0mlist_1\u001b[0m\u001b[1;33m+\u001b[0m\u001b[1;36m2\u001b[0m\u001b[1;33m\u001b[0m\u001b[1;33m\u001b[0m\u001b[0m\n\u001b[0m",
      "\u001b[1;31mTypeError\u001b[0m: can only concatenate list (not \"int\") to list"
     ]
    }
   ],
   "source": [
    "list_1+2"
   ]
  },
  {
   "cell_type": "code",
   "execution_count": 14,
   "id": "fcd3e6c4",
   "metadata": {},
   "outputs": [
    {
     "data": {
      "text/plain": [
       "array([3, 4, 5, 6, 7])"
      ]
     },
     "execution_count": 14,
     "metadata": {},
     "output_type": "execute_result"
    }
   ],
   "source": [
    "arr_1+2 "
   ]
  },
  {
   "cell_type": "code",
   "execution_count": 15,
   "id": "23c76ff8",
   "metadata": {},
   "outputs": [
    {
     "data": {
      "text/plain": [
       "dtype('int32')"
      ]
     },
     "execution_count": 15,
     "metadata": {},
     "output_type": "execute_result"
    }
   ],
   "source": [
    "array=np.array([1,2,3,4])\n",
    "array.dtype"
   ]
  },
  {
   "cell_type": "code",
   "execution_count": 16,
   "id": "72b77aa3",
   "metadata": {},
   "outputs": [
    {
     "data": {
      "text/plain": [
       "dtype('float64')"
      ]
     },
     "execution_count": 16,
     "metadata": {},
     "output_type": "execute_result"
    }
   ],
   "source": [
    "array=np.array([1,2.6,3,4])\n",
    "array.dtype"
   ]
  },
  {
   "cell_type": "code",
   "execution_count": 17,
   "id": "4b04e514",
   "metadata": {},
   "outputs": [
    {
     "data": {
      "text/plain": [
       "dtype('<U32')"
      ]
     },
     "execution_count": 17,
     "metadata": {},
     "output_type": "execute_result"
    }
   ],
   "source": [
    "array=np.array([1,2.6,3,'4'])\n",
    "array.dtype"
   ]
  },
  {
   "cell_type": "markdown",
   "id": "f7a5686a",
   "metadata": {},
   "source": [
    "### Array to List Conversion"
   ]
  },
  {
   "cell_type": "code",
   "execution_count": 18,
   "id": "25527f36",
   "metadata": {},
   "outputs": [
    {
     "data": {
      "text/plain": [
       "array([[1, 2, 3, 4],\n",
       "       [4, 5, 6, 7],\n",
       "       [4, 5, 6, 7]])"
      ]
     },
     "execution_count": 18,
     "metadata": {},
     "output_type": "execute_result"
    }
   ],
   "source": [
    "arr_4=np.array([[1,2,3,4],[4,5,6,7],[4,5,6,7]])\n",
    "arr_4"
   ]
  },
  {
   "cell_type": "code",
   "execution_count": 19,
   "id": "8a19144d",
   "metadata": {},
   "outputs": [
    {
     "data": {
      "text/plain": [
       "2"
      ]
     },
     "execution_count": 19,
     "metadata": {},
     "output_type": "execute_result"
    }
   ],
   "source": [
    "arr_4.ndim"
   ]
  },
  {
   "cell_type": "code",
   "execution_count": 20,
   "id": "0cda17a6",
   "metadata": {},
   "outputs": [
    {
     "data": {
      "text/plain": [
       "[[1, 2, 3, 4], [4, 5, 6, 7], [4, 5, 6, 7]]"
      ]
     },
     "execution_count": 20,
     "metadata": {},
     "output_type": "execute_result"
    }
   ],
   "source": [
    "arr_2_list=arr_4.tolist()\n",
    "arr_2_list"
   ]
  },
  {
   "cell_type": "code",
   "execution_count": 21,
   "id": "1eb7616b",
   "metadata": {},
   "outputs": [
    {
     "data": {
      "text/plain": [
       "list"
      ]
     },
     "execution_count": 21,
     "metadata": {},
     "output_type": "execute_result"
    }
   ],
   "source": [
    "type(arr_2_list)"
   ]
  },
  {
   "cell_type": "markdown",
   "id": "65459b44",
   "metadata": {},
   "source": [
    "### List to Array Conversion"
   ]
  },
  {
   "cell_type": "code",
   "execution_count": 22,
   "id": "50e1dd4c",
   "metadata": {},
   "outputs": [
    {
     "data": {
      "text/plain": [
       "array([[1, 2, 3, 4],\n",
       "       [4, 5, 6, 7],\n",
       "       [4, 5, 6, 7]])"
      ]
     },
     "execution_count": 22,
     "metadata": {},
     "output_type": "execute_result"
    }
   ],
   "source": [
    "list_2_arr=np.array(arr_2_list)\n",
    "list_2_arr"
   ]
  },
  {
   "cell_type": "code",
   "execution_count": 23,
   "id": "33d1668e",
   "metadata": {},
   "outputs": [
    {
     "data": {
      "text/plain": [
       "dtype('int32')"
      ]
     },
     "execution_count": 23,
     "metadata": {},
     "output_type": "execute_result"
    }
   ],
   "source": [
    "list_2_arr.dtype"
   ]
  },
  {
   "cell_type": "code",
   "execution_count": 24,
   "id": "08047332",
   "metadata": {},
   "outputs": [
    {
     "data": {
      "text/plain": [
       "2"
      ]
     },
     "execution_count": 24,
     "metadata": {},
     "output_type": "execute_result"
    }
   ],
   "source": [
    "list_2_arr.ndim"
   ]
  },
  {
   "cell_type": "markdown",
   "id": "b8ea9e06",
   "metadata": {},
   "source": [
    "### Statistical operations with Numpy"
   ]
  },
  {
   "cell_type": "code",
   "execution_count": 25,
   "id": "df90ea76",
   "metadata": {},
   "outputs": [
    {
     "data": {
      "text/plain": [
       "array([ 1,  2,  3,  4,  5,  6,  7,  8,  9, 10])"
      ]
     },
     "execution_count": 25,
     "metadata": {},
     "output_type": "execute_result"
    }
   ],
   "source": [
    "arr_1=np.array([1,2,3,4,5,6,7,8,9,10])\n",
    "arr_1"
   ]
  },
  {
   "cell_type": "code",
   "execution_count": 26,
   "id": "384c47cc",
   "metadata": {},
   "outputs": [
    {
     "data": {
      "text/plain": [
       "5.5"
      ]
     },
     "execution_count": 26,
     "metadata": {},
     "output_type": "execute_result"
    }
   ],
   "source": [
    "arr_1.mean() # Simple Average"
   ]
  },
  {
   "cell_type": "code",
   "execution_count": 27,
   "id": "4b1f8a01",
   "metadata": {},
   "outputs": [
    {
     "data": {
      "text/plain": [
       "5.5"
      ]
     },
     "execution_count": 27,
     "metadata": {},
     "output_type": "execute_result"
    }
   ],
   "source": [
    "np.median(arr_1) # Median is all about middle number"
   ]
  },
  {
   "cell_type": "code",
   "execution_count": 28,
   "id": "b5dfc9aa",
   "metadata": {},
   "outputs": [
    {
     "data": {
      "text/plain": [
       "2.8722813232690143"
      ]
     },
     "execution_count": 28,
     "metadata": {},
     "output_type": "execute_result"
    }
   ],
   "source": [
    "np.std(arr_1) # The spread of values from the mean towords LHS and RHS"
   ]
  },
  {
   "cell_type": "code",
   "execution_count": 29,
   "id": "6e08d91a",
   "metadata": {},
   "outputs": [
    {
     "data": {
      "text/plain": [
       "3628800"
      ]
     },
     "execution_count": 29,
     "metadata": {},
     "output_type": "execute_result"
    }
   ],
   "source": [
    "np.product(arr_1) #High level programs"
   ]
  },
  {
   "cell_type": "code",
   "execution_count": 30,
   "id": "f30d4468",
   "metadata": {},
   "outputs": [
    {
     "data": {
      "text/plain": [
       "10"
      ]
     },
     "execution_count": 30,
     "metadata": {},
     "output_type": "execute_result"
    }
   ],
   "source": [
    "np.count_nonzero(arr_1) #Count non zero elements in array"
   ]
  },
  {
   "cell_type": "markdown",
   "id": "48964e20",
   "metadata": {},
   "source": [
    "### 6. Reshaping the array"
   ]
  },
  {
   "cell_type": "code",
   "execution_count": 31,
   "id": "439fe1dd",
   "metadata": {},
   "outputs": [
    {
     "data": {
      "text/plain": [
       "array([ 1,  2,  3,  4,  5,  6,  7,  8,  9, 10])"
      ]
     },
     "execution_count": 31,
     "metadata": {},
     "output_type": "execute_result"
    }
   ],
   "source": [
    "arr_6=np.array([1,2,3,4,5,6,7,8,9,10])\n",
    "arr_6"
   ]
  },
  {
   "cell_type": "code",
   "execution_count": 32,
   "id": "996de220",
   "metadata": {},
   "outputs": [
    {
     "data": {
      "text/plain": [
       "1"
      ]
     },
     "execution_count": 32,
     "metadata": {},
     "output_type": "execute_result"
    }
   ],
   "source": [
    "arr_6.ndim"
   ]
  },
  {
   "cell_type": "code",
   "execution_count": 33,
   "id": "718d3d0a",
   "metadata": {},
   "outputs": [
    {
     "data": {
      "text/plain": [
       "10"
      ]
     },
     "execution_count": 33,
     "metadata": {},
     "output_type": "execute_result"
    }
   ],
   "source": [
    "arr_6.size"
   ]
  },
  {
   "cell_type": "code",
   "execution_count": 34,
   "id": "1529fe80",
   "metadata": {},
   "outputs": [
    {
     "data": {
      "text/plain": [
       "(10,)"
      ]
     },
     "execution_count": 34,
     "metadata": {},
     "output_type": "execute_result"
    }
   ],
   "source": [
    "arr_6.shape"
   ]
  },
  {
   "cell_type": "code",
   "execution_count": 35,
   "id": "0d1e21e6",
   "metadata": {},
   "outputs": [
    {
     "data": {
      "text/plain": [
       "array([[ 1,  2,  3,  4,  5],\n",
       "       [ 6,  7,  8,  9, 10]])"
      ]
     },
     "execution_count": 35,
     "metadata": {},
     "output_type": "execute_result"
    }
   ],
   "source": [
    "arr_6.reshape(2,5)"
   ]
  },
  {
   "cell_type": "code",
   "execution_count": 36,
   "id": "7bd8dbfe",
   "metadata": {},
   "outputs": [
    {
     "data": {
      "text/plain": [
       "array([[ 1,  2],\n",
       "       [ 3,  4],\n",
       "       [ 5,  6],\n",
       "       [ 7,  8],\n",
       "       [ 9, 10]])"
      ]
     },
     "execution_count": 36,
     "metadata": {},
     "output_type": "execute_result"
    }
   ],
   "source": [
    "arr_6_reshaped=arr_6.reshape(5,2)\n",
    "arr_6_reshaped"
   ]
  },
  {
   "cell_type": "code",
   "execution_count": 37,
   "id": "f4e95f1c",
   "metadata": {},
   "outputs": [
    {
     "data": {
      "text/plain": [
       "2"
      ]
     },
     "execution_count": 37,
     "metadata": {},
     "output_type": "execute_result"
    }
   ],
   "source": [
    "arr_6_reshaped.ndim"
   ]
  },
  {
   "cell_type": "code",
   "execution_count": 38,
   "id": "5350e709",
   "metadata": {},
   "outputs": [
    {
     "data": {
      "text/plain": [
       "array([[ 1,  2,  3,  4,  5,  6,  7,  8,  9, 10]])"
      ]
     },
     "execution_count": 38,
     "metadata": {},
     "output_type": "execute_result"
    }
   ],
   "source": [
    "arr_6_reshaped=arr_6.reshape(1,10)\n",
    "arr_6_reshaped"
   ]
  },
  {
   "cell_type": "code",
   "execution_count": 39,
   "id": "87033c36",
   "metadata": {},
   "outputs": [
    {
     "data": {
      "text/plain": [
       "2"
      ]
     },
     "execution_count": 39,
     "metadata": {},
     "output_type": "execute_result"
    }
   ],
   "source": [
    "arr_6_reshaped.ndim"
   ]
  },
  {
   "cell_type": "markdown",
   "id": "3a4335ad",
   "metadata": {},
   "source": [
    "### 7. Convert n-D to 1-D"
   ]
  },
  {
   "cell_type": "code",
   "execution_count": 40,
   "id": "398b947a",
   "metadata": {},
   "outputs": [
    {
     "name": "stdout",
     "output_type": "stream",
     "text": [
      "[[[1 2 3 4]\n",
      "  [5 6 7 8]]]\n",
      "No of Dimension: 3\n"
     ]
    }
   ],
   "source": [
    "print(arr_3)\n",
    "print('No of Dimension:',arr_3.ndim)"
   ]
  },
  {
   "cell_type": "code",
   "execution_count": 41,
   "id": "49db2972",
   "metadata": {},
   "outputs": [
    {
     "data": {
      "text/plain": [
       "array([1, 2, 3, 4, 5, 6, 7, 8])"
      ]
     },
     "execution_count": 41,
     "metadata": {},
     "output_type": "execute_result"
    }
   ],
   "source": [
    "arr_3=arr_3.flatten() #Return a copy of the array collapsed into one dimension.\n",
    "arr_3"
   ]
  },
  {
   "cell_type": "code",
   "execution_count": 42,
   "id": "9753a7c2",
   "metadata": {},
   "outputs": [
    {
     "data": {
      "text/plain": [
       "1"
      ]
     },
     "execution_count": 42,
     "metadata": {},
     "output_type": "execute_result"
    }
   ],
   "source": [
    "arr_3.ndim"
   ]
  },
  {
   "cell_type": "markdown",
   "id": "3ad3c554",
   "metadata": {},
   "source": [
    "### 8. Sequencing, Repetition and Random Numbers."
   ]
  },
  {
   "cell_type": "code",
   "execution_count": 43,
   "id": "957027d9",
   "metadata": {},
   "outputs": [
    {
     "data": {
      "text/plain": [
       "array([ 1,  2,  3,  4,  5,  6,  7,  8,  9, 10, 11, 12, 13, 14, 15, 16, 17,\n",
       "       18, 19, 20])"
      ]
     },
     "execution_count": 43,
     "metadata": {},
     "output_type": "execute_result"
    }
   ],
   "source": [
    "np.arange(1,21)#Sequence of numbers"
   ]
  },
  {
   "cell_type": "code",
   "execution_count": 45,
   "id": "225b816c",
   "metadata": {},
   "outputs": [
    {
     "data": {
      "text/plain": [
       "array([ 2.        ,  6.22222222, 10.44444444, 14.66666667, 18.88888889,\n",
       "       23.11111111, 27.33333333, 31.55555556, 35.77777778, 40.        ])"
      ]
     },
     "execution_count": 45,
     "metadata": {},
     "output_type": "execute_result"
    }
   ],
   "source": [
    "np.linspace(start=2, stop=40, num=10)#Return evenly spaced numbers over a specified interval."
   ]
  },
  {
   "cell_type": "code",
   "execution_count": 46,
   "id": "7f894e55",
   "metadata": {},
   "outputs": [
    {
     "data": {
      "text/plain": [
       "array([ 1.        ,  2.02040816,  3.04081633,  4.06122449,  5.08163265,\n",
       "        6.10204082,  7.12244898,  8.14285714,  9.16326531, 10.18367347,\n",
       "       11.20408163, 12.2244898 , 13.24489796, 14.26530612, 15.28571429,\n",
       "       16.30612245, 17.32653061, 18.34693878, 19.36734694, 20.3877551 ,\n",
       "       21.40816327, 22.42857143, 23.44897959, 24.46938776, 25.48979592,\n",
       "       26.51020408, 27.53061224, 28.55102041, 29.57142857, 30.59183673,\n",
       "       31.6122449 , 32.63265306, 33.65306122, 34.67346939, 35.69387755,\n",
       "       36.71428571, 37.73469388, 38.75510204, 39.7755102 , 40.79591837,\n",
       "       41.81632653, 42.83673469, 43.85714286, 44.87755102, 45.89795918,\n",
       "       46.91836735, 47.93877551, 48.95918367, 49.97959184, 51.        ])"
      ]
     },
     "execution_count": 46,
     "metadata": {},
     "output_type": "execute_result"
    }
   ],
   "source": [
    "np.linspace(start=1, stop=51, num=50)"
   ]
  },
  {
   "cell_type": "code",
   "execution_count": 47,
   "id": "ba3b7a7b",
   "metadata": {},
   "outputs": [],
   "source": [
    "# Repeat function\n",
    "arr_8=np.array([[1,2,3,4],[5,6,7,8]])"
   ]
  },
  {
   "cell_type": "code",
   "execution_count": 50,
   "id": "5a0c591a",
   "metadata": {},
   "outputs": [
    {
     "data": {
      "text/plain": [
       "array([1, 1, 1, 1, 1, 1, 1, 1, 1, 1, 1, 1, 1, 1, 1, 1, 1, 1, 1, 1, 2, 2,\n",
       "       2, 2, 2, 2, 2, 2, 2, 2, 2, 2, 2, 2, 2, 2, 2, 2, 2, 2, 3, 3, 3, 3,\n",
       "       3, 3, 3, 3, 3, 3, 3, 3, 3, 3, 3, 3, 3, 3, 3, 3, 4, 4, 4, 4, 4, 4,\n",
       "       4, 4, 4, 4, 4, 4, 4, 4, 4, 4, 4, 4, 4, 4, 5, 5, 5, 5, 5, 5, 5, 5,\n",
       "       5, 5, 5, 5, 5, 5, 5, 5, 5, 5, 5, 5, 6, 6, 6, 6, 6, 6, 6, 6, 6, 6,\n",
       "       6, 6, 6, 6, 6, 6, 6, 6, 6, 6, 7, 7, 7, 7, 7, 7, 7, 7, 7, 7, 7, 7,\n",
       "       7, 7, 7, 7, 7, 7, 7, 7, 8, 8, 8, 8, 8, 8, 8, 8, 8, 8, 8, 8, 8, 8,\n",
       "       8, 8, 8, 8, 8, 8])"
      ]
     },
     "execution_count": 50,
     "metadata": {},
     "output_type": "execute_result"
    }
   ],
   "source": [
    "arr_8.repeat(repeats=20, axis=None)#Repeat elements of an array."
   ]
  },
  {
   "cell_type": "code",
   "execution_count": 51,
   "id": "2b72c59d",
   "metadata": {},
   "outputs": [
    {
     "data": {
      "text/plain": [
       "array([[1, 2, 3, 4],\n",
       "       [1, 2, 3, 4],\n",
       "       [1, 2, 3, 4],\n",
       "       [1, 2, 3, 4],\n",
       "       [1, 2, 3, 4],\n",
       "       [1, 2, 3, 4],\n",
       "       [1, 2, 3, 4],\n",
       "       [1, 2, 3, 4],\n",
       "       [1, 2, 3, 4],\n",
       "       [1, 2, 3, 4],\n",
       "       [1, 2, 3, 4],\n",
       "       [1, 2, 3, 4],\n",
       "       [1, 2, 3, 4],\n",
       "       [1, 2, 3, 4],\n",
       "       [1, 2, 3, 4],\n",
       "       [1, 2, 3, 4],\n",
       "       [1, 2, 3, 4],\n",
       "       [1, 2, 3, 4],\n",
       "       [1, 2, 3, 4],\n",
       "       [1, 2, 3, 4],\n",
       "       [5, 6, 7, 8],\n",
       "       [5, 6, 7, 8],\n",
       "       [5, 6, 7, 8],\n",
       "       [5, 6, 7, 8],\n",
       "       [5, 6, 7, 8],\n",
       "       [5, 6, 7, 8],\n",
       "       [5, 6, 7, 8],\n",
       "       [5, 6, 7, 8],\n",
       "       [5, 6, 7, 8],\n",
       "       [5, 6, 7, 8],\n",
       "       [5, 6, 7, 8],\n",
       "       [5, 6, 7, 8],\n",
       "       [5, 6, 7, 8],\n",
       "       [5, 6, 7, 8],\n",
       "       [5, 6, 7, 8],\n",
       "       [5, 6, 7, 8],\n",
       "       [5, 6, 7, 8],\n",
       "       [5, 6, 7, 8],\n",
       "       [5, 6, 7, 8],\n",
       "       [5, 6, 7, 8]])"
      ]
     },
     "execution_count": 51,
     "metadata": {},
     "output_type": "execute_result"
    }
   ],
   "source": [
    "arr_8.repeat(repeats=20, axis=0)"
   ]
  },
  {
   "cell_type": "code",
   "execution_count": 53,
   "id": "a95291b1",
   "metadata": {},
   "outputs": [
    {
     "data": {
      "text/plain": [
       "array([[0.21962553, 0.64268517, 0.33497102, 0.94069654, 0.68391403],\n",
       "       [0.78792745, 0.1480955 , 0.08867777, 0.63763787, 0.14917322],\n",
       "       [0.29967855, 0.01891872, 0.05381865, 0.4643104 , 0.33406927],\n",
       "       [0.09843293, 0.52112055, 0.90288896, 0.9595481 , 0.5211092 ],\n",
       "       [0.78759292, 0.94220132, 0.70347336, 0.99958746, 0.3455955 ]])"
      ]
     },
     "execution_count": 53,
     "metadata": {},
     "output_type": "execute_result"
    }
   ],
   "source": [
    "#Random\n",
    "rand_no_uni=np.random.rand(5,5)#random samples from a uniform distribution\n",
    "rand_no_uni"
   ]
  },
  {
   "cell_type": "code",
   "execution_count": 61,
   "id": "fbf705ac",
   "metadata": {},
   "outputs": [
    {
     "data": {
      "text/plain": [
       "array([[-0.31232848,  0.33928471, -0.15590853, -0.50178967,  0.23556889],\n",
       "       [-1.76360526, -1.09586204, -1.08776574, -0.30517005, -0.47374837],\n",
       "       [-0.20059454,  0.35519677,  0.68951772,  0.41058968, -0.56497844],\n",
       "       [ 0.59939069, -0.16293631,  1.6002145 ,  0.6816272 ,  0.0148801 ],\n",
       "       [-0.08777963, -0.98211784,  0.12169048, -1.13743729,  0.34900258]])"
      ]
     },
     "execution_count": 61,
     "metadata": {},
     "output_type": "execute_result"
    }
   ],
   "source": [
    "np.random.seed(15)# To keep a constant random samples\n",
    "\n",
    "rand_no_std_norm=np.random.randn(5,5)#Return a sample (or samples) from the \"standard normal\" distribution\n",
    "rand_no_std_norm"
   ]
  },
  {
   "cell_type": "code",
   "execution_count": 62,
   "id": "1baf9653",
   "metadata": {},
   "outputs": [],
   "source": [
    "import matplotlib.pyplot as plt"
   ]
  },
  {
   "cell_type": "code",
   "execution_count": 63,
   "id": "4ac80386",
   "metadata": {},
   "outputs": [
    {
     "data": {
      "image/png": "[encoded data removed]",
      "text/plain": [
       "<Figure size 432x288 with 1 Axes>"
      ]
     },
     "metadata": {
      "needs_background": "light"
     },
     "output_type": "display_data"
    }
   ],
   "source": [
    "plt.hist(rand_no_uni)\n",
    "plt.xlabel('Random Values')\n",
    "plt.ylabel('Frequency')\n",
    "plt.title('Random Values From Uniform Distribution')\n",
    "plt.show()"
   ]
  },
  {
   "cell_type": "code",
   "execution_count": 64,
   "id": "b275519c",
   "metadata": {},
   "outputs": [
    {
     "data": {
      "image/png": "[encoded data removed]",
      "text/plain": [
       "<Figure size 432x288 with 1 Axes>"
      ]
     },
     "metadata": {
      "needs_background": "light"
     },
     "output_type": "display_data"
    }
   ],
   "source": [
    "plt.hist(rand_no_std_norm)\n",
    "plt.xlabel('Random Values')\n",
    "plt.ylabel('Frequency')\n",
    "plt.title('Random Values From Standard Normal Distribution')\n",
    "plt.show()"
   ]
  },
  {
   "cell_type": "markdown",
   "id": "1cc75817",
   "metadata": {},
   "source": [
    "#### Standard Normal Distribution\n",
    "\n",
    "It follows **Emperical Rule**:\n",
    "* **68%** of the values lie between 1SD[-1SD to +1SD]\n",
    "* **95%** of the values lie between 2SD[-2SD to +2SD]\n",
    "* **99.9%** of the values lie between 3SD[-3SD to +3SD]\n",
    "\n",
    "If we find any other values outside this 3SD, we call them as **OUTLIERS**"
   ]
  },
  {
   "cell_type": "markdown",
   "id": "7cf41b63",
   "metadata": {},
   "source": [
    "## The End"
   ]
  }
 ],
 "metadata": {
  "kernelspec": {
   "display_name": "Python 3",
   "language": "python",
   "name": "python3"
  },
  "language_info": {
   "codemirror_mode": {
    "name": "ipython",
    "version": 3
   },
   "file_extension": ".py",
   "mimetype": "text/x-python",
   "name": "python",
   "nbconvert_exporter": "python",
   "pygments_lexer": "ipython3",
   "version": "3.8.8"
  }
 },
 "nbformat": 4,
 "nbformat_minor": 5
}
