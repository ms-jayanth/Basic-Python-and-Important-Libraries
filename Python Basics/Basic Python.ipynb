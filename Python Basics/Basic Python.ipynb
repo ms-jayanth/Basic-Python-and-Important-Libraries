{
 "cells": [
  {
   "cell_type": "markdown",
   "id": "0b3a598f",
   "metadata": {},
   "source": [
    "# Python Basics "
   ]
  },
  {
   "cell_type": "markdown",
   "id": "12079b55",
   "metadata": {},
   "source": [
    "## Chapter 1"
   ]
  },
  {
   "cell_type": "markdown",
   "id": "19ffc408",
   "metadata": {},
   "source": [
    "#### 1(a) Hello World"
   ]
  },
  {
   "cell_type": "code",
   "execution_count": 1,
   "id": "3017c9fe",
   "metadata": {},
   "outputs": [
    {
     "name": "stdout",
     "output_type": "stream",
     "text": [
      "Welcome to Data Science\n"
     ]
    }
   ],
   "source": [
    "print('Welcome to Data Science')"
   ]
  },
  {
   "cell_type": "code",
   "execution_count": 2,
   "id": "dc86c094",
   "metadata": {},
   "outputs": [
    {
     "name": "stdout",
     "output_type": "stream",
     "text": [
      "Jay said John's session is bit boring\n"
     ]
    }
   ],
   "source": [
    "print(\"Jay said John's session is bit boring\")"
   ]
  },
  {
   "cell_type": "code",
   "execution_count": 3,
   "id": "fa6adf59",
   "metadata": {},
   "outputs": [
    {
     "name": "stdout",
     "output_type": "stream",
     "text": [
      "Jay said \"John's sessiom is boit boring\" \n"
     ]
    }
   ],
   "source": [
    "print(\"\"\"Jay said \"John's sessiom is bit boring\" \"\"\")"
   ]
  },
  {
   "cell_type": "code",
   "execution_count": 4,
   "id": "4c4c0341",
   "metadata": {},
   "outputs": [
    {
     "name": "stdout",
     "output_type": "stream",
     "text": [
      "67\n"
     ]
    }
   ],
   "source": [
    "print(67)"
   ]
  },
  {
   "cell_type": "code",
   "execution_count": 5,
   "id": "551cd287",
   "metadata": {},
   "outputs": [
    {
     "name": "stdout",
     "output_type": "stream",
     "text": [
      "144\n"
     ]
    }
   ],
   "source": [
    "print(76+34+34)"
   ]
  },
  {
   "cell_type": "markdown",
   "id": "6f45ccf5",
   "metadata": {},
   "source": [
    "#### 1(b) Create  a variable"
   ]
  },
  {
   "cell_type": "code",
   "execution_count": 6,
   "id": "f751711a",
   "metadata": {},
   "outputs": [],
   "source": [
    "participants='Jay','Akki','Bhar','Koti','Mali','chinnu','putta'"
   ]
  },
  {
   "cell_type": "code",
   "execution_count": 7,
   "id": "869d0c2e",
   "metadata": {},
   "outputs": [
    {
     "data": {
      "text/plain": [
       "('Jay', 'Akki', 'Bhar', 'Koti', 'Mali', 'chinnu', 'putta')"
      ]
     },
     "execution_count": 7,
     "metadata": {},
     "output_type": "execute_result"
    }
   ],
   "source": [
    "participants"
   ]
  },
  {
   "cell_type": "code",
   "execution_count": 8,
   "id": "d119296a",
   "metadata": {},
   "outputs": [
    {
     "data": {
      "text/plain": [
       "7"
      ]
     },
     "execution_count": 8,
     "metadata": {},
     "output_type": "execute_result"
    }
   ],
   "source": [
    "len(participants)"
   ]
  },
  {
   "cell_type": "code",
   "execution_count": 9,
   "id": "f575caa9",
   "metadata": {
    "scrolled": true
   },
   "outputs": [
    {
     "data": {
      "text/plain": [
       "'Koti'"
      ]
     },
     "execution_count": 9,
     "metadata": {},
     "output_type": "execute_result"
    }
   ],
   "source": [
    "participants[3]"
   ]
  },
  {
   "cell_type": "code",
   "execution_count": 10,
   "id": "9e6484b8",
   "metadata": {},
   "outputs": [
    {
     "data": {
      "text/plain": [
       "('Akki', 'Bhar', 'Koti', 'Mali', 'chinnu', 'putta')"
      ]
     },
     "execution_count": 10,
     "metadata": {},
     "output_type": "execute_result"
    }
   ],
   "source": [
    "participants[1:]"
   ]
  },
  {
   "cell_type": "code",
   "execution_count": 11,
   "id": "e42e0148",
   "metadata": {},
   "outputs": [
    {
     "data": {
      "text/plain": [
       "('Bhar', 'Koti', 'Mali', 'chinnu')"
      ]
     },
     "execution_count": 11,
     "metadata": {},
     "output_type": "execute_result"
    }
   ],
   "source": [
    "participants[2:6]"
   ]
  },
  {
   "cell_type": "markdown",
   "id": "74fb33b5",
   "metadata": {},
   "source": [
    "###### Enumarate functions- Look "
   ]
  },
  {
   "cell_type": "markdown",
   "id": "43bf0093",
   "metadata": {},
   "source": [
    "## Chapter 2"
   ]
  },
  {
   "cell_type": "markdown",
   "id": "ad22d340",
   "metadata": {},
   "source": [
    "**3 Datatypes in Python:**\n",
    "1. Integer - only whole numbers\n",
    "2. Float - with decimal points\n",
    "3. String - anything which is enclosed with quoted"
   ]
  },
  {
   "cell_type": "markdown",
   "id": "4a9dd186",
   "metadata": {},
   "source": [
    "#### What is a String?"
   ]
  },
  {
   "cell_type": "code",
   "execution_count": 12,
   "id": "d1fecd5c",
   "metadata": {},
   "outputs": [],
   "source": [
    "jay_score=200"
   ]
  },
  {
   "cell_type": "code",
   "execution_count": 13,
   "id": "3f422ae6",
   "metadata": {},
   "outputs": [
    {
     "data": {
      "text/plain": [
       "int"
      ]
     },
     "execution_count": 13,
     "metadata": {},
     "output_type": "execute_result"
    }
   ],
   "source": [
    "type(jay_score)"
   ]
  },
  {
   "cell_type": "code",
   "execution_count": 14,
   "id": "9fa23993",
   "metadata": {},
   "outputs": [],
   "source": [
    "satvik_avg_marks=8.3"
   ]
  },
  {
   "cell_type": "code",
   "execution_count": 15,
   "id": "11903780",
   "metadata": {},
   "outputs": [
    {
     "data": {
      "text/plain": [
       "float"
      ]
     },
     "execution_count": 15,
     "metadata": {},
     "output_type": "execute_result"
    }
   ],
   "source": [
    "type(satvik_avg_marks)"
   ]
  },
  {
   "cell_type": "code",
   "execution_count": 16,
   "id": "f2827bed",
   "metadata": {},
   "outputs": [],
   "source": [
    "akki_avg_score='10'"
   ]
  },
  {
   "cell_type": "code",
   "execution_count": 17,
   "id": "4a47cb79",
   "metadata": {},
   "outputs": [
    {
     "data": {
      "text/plain": [
       "str"
      ]
     },
     "execution_count": 17,
     "metadata": {},
     "output_type": "execute_result"
    }
   ],
   "source": [
    "type(akki_avg_score)"
   ]
  },
  {
   "cell_type": "markdown",
   "id": "72d582ab",
   "metadata": {},
   "source": [
    "#### 2(b) Concatination - Indexing - Slicing"
   ]
  },
  {
   "cell_type": "code",
   "execution_count": 18,
   "id": "007d1bf6",
   "metadata": {},
   "outputs": [],
   "source": [
    "fname= 'Jayanth'\n",
    "lname= 'Swamy'\n",
    "age=23"
   ]
  },
  {
   "cell_type": "code",
   "execution_count": 19,
   "id": "b75ce165",
   "metadata": {},
   "outputs": [
    {
     "data": {
      "text/plain": [
       "'Jayanth'"
      ]
     },
     "execution_count": 19,
     "metadata": {},
     "output_type": "execute_result"
    }
   ],
   "source": [
    "fname"
   ]
  },
  {
   "cell_type": "code",
   "execution_count": 20,
   "id": "8b8a70a8",
   "metadata": {},
   "outputs": [
    {
     "data": {
      "text/plain": [
       "'Swamy'"
      ]
     },
     "execution_count": 20,
     "metadata": {},
     "output_type": "execute_result"
    }
   ],
   "source": [
    "lname"
   ]
  },
  {
   "cell_type": "code",
   "execution_count": 21,
   "id": "5495723f",
   "metadata": {},
   "outputs": [
    {
     "data": {
      "text/plain": [
       "'Swamy'"
      ]
     },
     "execution_count": 21,
     "metadata": {},
     "output_type": "execute_result"
    }
   ],
   "source": [
    "fname\n",
    "lname"
   ]
  },
  {
   "cell_type": "code",
   "execution_count": 22,
   "id": "e073c86d",
   "metadata": {},
   "outputs": [
    {
     "data": {
      "text/plain": [
       "('Jayanth', 'Swamy')"
      ]
     },
     "execution_count": 22,
     "metadata": {},
     "output_type": "execute_result"
    }
   ],
   "source": [
    "fname,lname"
   ]
  },
  {
   "cell_type": "code",
   "execution_count": 23,
   "id": "695ff1c3",
   "metadata": {},
   "outputs": [
    {
     "name": "stdout",
     "output_type": "stream",
     "text": [
      "Jayanth\n",
      "Swamy\n"
     ]
    }
   ],
   "source": [
    "print(fname)\n",
    "print(lname)"
   ]
  },
  {
   "cell_type": "code",
   "execution_count": 24,
   "id": "b96263ac",
   "metadata": {},
   "outputs": [
    {
     "name": "stdout",
     "output_type": "stream",
     "text": [
      "Jayanth Swamy\n"
     ]
    }
   ],
   "source": [
    "print(fname,lname)"
   ]
  },
  {
   "cell_type": "code",
   "execution_count": 25,
   "id": "2f8b9724",
   "metadata": {},
   "outputs": [
    {
     "name": "stdout",
     "output_type": "stream",
     "text": [
      "First Name: Jayanth Last Name: Swamy\n"
     ]
    }
   ],
   "source": [
    "print('First Name: ' + fname + ' Last Name: ' + lname) # String Concatination"
   ]
  },
  {
   "cell_type": "code",
   "execution_count": 26,
   "id": "17ff1bc2",
   "metadata": {},
   "outputs": [
    {
     "name": "stdout",
     "output_type": "stream",
     "text": [
      "First Name: Jayanth Last Name: Swamy Age: 23\n"
     ]
    }
   ],
   "source": [
    "print('First Name: ' + fname + ' Last Name: ' + lname+ ' Age: '+ str(age)) #Type Casting"
   ]
  },
  {
   "cell_type": "code",
   "execution_count": 27,
   "id": "a05dc13c",
   "metadata": {},
   "outputs": [
    {
     "name": "stdout",
     "output_type": "stream",
     "text": [
      "First Name: Jayanth Last name: Swamy Age: 23\n"
     ]
    }
   ],
   "source": [
    "print('First Name:', fname, 'Last name:', lname, 'Age:',age)"
   ]
  },
  {
   "cell_type": "code",
   "execution_count": 28,
   "id": "180e5d92",
   "metadata": {},
   "outputs": [
    {
     "name": "stdout",
     "output_type": "stream",
     "text": [
      "First Name: Jayanth \n",
      "Last name: Swamy \n",
      "Age: 23\n"
     ]
    }
   ],
   "source": [
    "print('First Name:', fname, '\\nLast name:', lname, '\\nAge:',age) # Escape Sequences"
   ]
  },
  {
   "cell_type": "code",
   "execution_count": 29,
   "id": "43b02fba",
   "metadata": {},
   "outputs": [
    {
     "name": "stdout",
     "output_type": "stream",
     "text": [
      "First Name: Jayanth \tLast name: Swamy \tAge: 23\n"
     ]
    }
   ],
   "source": [
    "print('First Name:', fname, '\\tLast name:', lname, '\\tAge:',age)"
   ]
  },
  {
   "cell_type": "markdown",
   "id": "be1a5747",
   "metadata": {},
   "source": [
    "#### 2(c) Manipulating String With Methods/Functions. "
   ]
  },
  {
   "cell_type": "markdown",
   "id": "be7a9eb7",
   "metadata": {},
   "source": [
    "**Methods or Functions**: Inorder to do some operation on your variable, we go for Methods. And always method closed with ()"
   ]
  },
  {
   "cell_type": "code",
   "execution_count": 30,
   "id": "ad91e04c",
   "metadata": {},
   "outputs": [],
   "source": [
    "learner_1='Jayanth'\n",
    "learner_2=' Anil'\n",
    "learner_3='Akki   '\n",
    "learner_4='          Shashi      '"
   ]
  },
  {
   "cell_type": "code",
   "execution_count": 31,
   "id": "e83125fa",
   "metadata": {},
   "outputs": [
    {
     "name": "stdout",
     "output_type": "stream",
     "text": [
      "Jayanth\n",
      " Anil\n",
      "Akki   \n",
      "          Shashi      \n"
     ]
    }
   ],
   "source": [
    "print(learner_1)\n",
    "print(learner_2)\n",
    "print(learner_3)\n",
    "print(learner_4)"
   ]
  },
  {
   "cell_type": "code",
   "execution_count": 32,
   "id": "6a893612",
   "metadata": {},
   "outputs": [
    {
     "data": {
      "text/plain": [
       "(7, 5, 7, 22)"
      ]
     },
     "execution_count": 32,
     "metadata": {},
     "output_type": "execute_result"
    }
   ],
   "source": [
    "len(learner_1), len(learner_2), len(learner_3), len(learner_4)"
   ]
  },
  {
   "cell_type": "code",
   "execution_count": 33,
   "id": "b6f0af11",
   "metadata": {},
   "outputs": [
    {
     "data": {
      "text/plain": [
       "'JAYANTH'"
      ]
     },
     "execution_count": 33,
     "metadata": {},
     "output_type": "execute_result"
    }
   ],
   "source": [
    "learner_1.upper() # Return a copy of the string converted to uppercase."
   ]
  },
  {
   "cell_type": "code",
   "execution_count": 34,
   "id": "fb13a275",
   "metadata": {},
   "outputs": [
    {
     "data": {
      "text/plain": [
       "'Anil'"
      ]
     },
     "execution_count": 34,
     "metadata": {},
     "output_type": "execute_result"
    }
   ],
   "source": [
    "learner_2.lstrip() #Return a copy of the string with leading whitespace removed"
   ]
  },
  {
   "cell_type": "code",
   "execution_count": 35,
   "id": "acff01e2",
   "metadata": {},
   "outputs": [
    {
     "data": {
      "text/plain": [
       "'Akki'"
      ]
     },
     "execution_count": 35,
     "metadata": {},
     "output_type": "execute_result"
    }
   ],
   "source": [
    "learner_3.rstrip() #Return a copy of the string with trailing whitespace removed"
   ]
  },
  {
   "cell_type": "code",
   "execution_count": 36,
   "id": "2641226c",
   "metadata": {},
   "outputs": [
    {
     "data": {
      "text/plain": [
       "'Shashi'"
      ]
     },
     "execution_count": 36,
     "metadata": {},
     "output_type": "execute_result"
    }
   ],
   "source": [
    "learner_4.strip() #Return a copy of the string with leading and trailing whitespace removed"
   ]
  },
  {
   "cell_type": "markdown",
   "id": "284f8868",
   "metadata": {},
   "source": [
    "### Task 1: Come up with 2 examples for all the string methods. "
   ]
  },
  {
   "cell_type": "markdown",
   "id": "e6258c43",
   "metadata": {},
   "source": [
    "#### 2(d) Interact with user input "
   ]
  },
  {
   "cell_type": "code",
   "execution_count": 37,
   "id": "02e41473",
   "metadata": {},
   "outputs": [
    {
     "name": "stdout",
     "output_type": "stream",
     "text": [
      "UserName:Jayanth\n"
     ]
    },
    {
     "data": {
      "text/plain": [
       "'Jayanth'"
      ]
     },
     "execution_count": 37,
     "metadata": {},
     "output_type": "execute_result"
    }
   ],
   "source": [
    "input('UserName:')"
   ]
  },
  {
   "cell_type": "code",
   "execution_count": 38,
   "id": "9d152146",
   "metadata": {},
   "outputs": [
    {
     "name": "stdout",
     "output_type": "stream",
     "text": [
      "UserName:Jayanth\n",
      "Username starts with J\n"
     ]
    }
   ],
   "source": [
    "user_input=input('UserName:')\n",
    "print('Username starts with', user_input[0])"
   ]
  },
  {
   "cell_type": "markdown",
   "id": "43c04ce8",
   "metadata": {},
   "source": [
    "#### 2(e). Get 2 inputs from the user and print it"
   ]
  },
  {
   "cell_type": "code",
   "execution_count": 39,
   "id": "0a25c06d",
   "metadata": {},
   "outputs": [
    {
     "name": "stdout",
     "output_type": "stream",
     "text": [
      "Name:Jay\n",
      "Hello Jay\n",
      "Age:23\n",
      "Oh, you are 23 years old\n"
     ]
    }
   ],
   "source": [
    "Name=input('Name:')\n",
    "print('Hello',Name)\n",
    "Age=input('Age:')\n",
    "print('Oh, you are', Age,'years old')"
   ]
  },
  {
   "cell_type": "markdown",
   "id": "b99c9cb6",
   "metadata": {},
   "source": [
    "#### 2(f) Streamline your print statement "
   ]
  },
  {
   "cell_type": "code",
   "execution_count": 40,
   "id": "6c77a5f7",
   "metadata": {},
   "outputs": [
    {
     "name": "stdout",
     "output_type": "stream",
     "text": [
      "Your Fav hero:Puneeth\n",
      "Your Fav movie:Yuvaratna\n",
      "Your favourate hero is Puneeth and your favourate movie is Yuvaratna\n"
     ]
    }
   ],
   "source": [
    "Fav_hero=input('Your Fav hero:')\n",
    "Fav_movie=input('Your Fav movie:')\n",
    "print('Your favourate hero is {} and your favourate movie is {}'. format(Fav_hero, Fav_movie)) # print formatting"
   ]
  },
  {
   "cell_type": "markdown",
   "id": "c65ccaae",
   "metadata": {},
   "source": [
    "## Chapter 3: Numbers in Python"
   ]
  },
  {
   "cell_type": "code",
   "execution_count": 41,
   "id": "094f2e9f",
   "metadata": {},
   "outputs": [
    {
     "name": "stdout",
     "output_type": "stream",
     "text": [
      "Enter your marks:88\n"
     ]
    },
    {
     "ename": "TypeError",
     "evalue": "bad operand type for abs(): 'str'",
     "output_type": "error",
     "traceback": [
      "\u001b[1;31m---------------------------------------------------------------------------\u001b[0m",
      "\u001b[1;31mTypeError\u001b[0m                                 Traceback (most recent call last)",
      "\u001b[1;32m<ipython-input-41-d9e76163f071>\u001b[0m in \u001b[0;36m<module>\u001b[1;34m\u001b[0m\n\u001b[0;32m      1\u001b[0m \u001b[0muser_marks\u001b[0m\u001b[1;33m=\u001b[0m\u001b[0minput\u001b[0m\u001b[1;33m(\u001b[0m\u001b[1;34m'Enter your marks:'\u001b[0m\u001b[1;33m)\u001b[0m\u001b[1;33m\u001b[0m\u001b[1;33m\u001b[0m\u001b[0m\n\u001b[1;32m----> 2\u001b[1;33m \u001b[0mprint\u001b[0m\u001b[1;33m(\u001b[0m\u001b[1;34m'Scored marks :'\u001b[0m\u001b[1;33m,\u001b[0m \u001b[0mabs\u001b[0m\u001b[1;33m(\u001b[0m\u001b[0muser_marks\u001b[0m\u001b[1;33m)\u001b[0m\u001b[1;33m)\u001b[0m\u001b[1;33m\u001b[0m\u001b[1;33m\u001b[0m\u001b[0m\n\u001b[0m",
      "\u001b[1;31mTypeError\u001b[0m: bad operand type for abs(): 'str'"
     ]
    }
   ],
   "source": [
    "user_marks=input('Enter your marks:')\n",
    "print('Scored marks :', abs(user_marks))"
   ]
  },
  {
   "cell_type": "code",
   "execution_count": 42,
   "id": "7f9a9b8a",
   "metadata": {},
   "outputs": [
    {
     "data": {
      "text/plain": [
       "str"
      ]
     },
     "execution_count": 42,
     "metadata": {},
     "output_type": "execute_result"
    }
   ],
   "source": [
    "type(user_marks)"
   ]
  },
  {
   "cell_type": "code",
   "execution_count": 43,
   "id": "633c1839",
   "metadata": {},
   "outputs": [
    {
     "name": "stdout",
     "output_type": "stream",
     "text": [
      "Enter your marks:-78\n",
      "Scored marks : 78\n"
     ]
    }
   ],
   "source": [
    "user_marks=int(input('Enter your marks:'))\n",
    "print('Scored marks :', abs(user_marks))"
   ]
  },
  {
   "cell_type": "code",
   "execution_count": 44,
   "id": "8fd5751d",
   "metadata": {},
   "outputs": [
    {
     "data": {
      "text/plain": [
       "int"
      ]
     },
     "execution_count": 44,
     "metadata": {},
     "output_type": "execute_result"
    }
   ],
   "source": [
    "type(user_marks)"
   ]
  },
  {
   "cell_type": "markdown",
   "id": "257e93dc",
   "metadata": {},
   "source": [
    "## Chapter 4: Functions and Loops"
   ]
  },
  {
   "cell_type": "markdown",
   "id": "cbf02bc8",
   "metadata": {},
   "source": [
    "**3 types of functions in python**\n",
    "\n",
    "1. **Build-in/ Pre-defined function**: This function will get installed when we are Anaconda Navigator\n",
    "2. **User-defined Function**: User defined functipon. Customizable\n",
    "3. **Anonymous Function**: It is a nameless function used to accomplish one task at once."
   ]
  },
  {
   "cell_type": "markdown",
   "id": "1fd9a0cf",
   "metadata": {},
   "source": [
    "#### 4(a) Write your own functions "
   ]
  },
  {
   "cell_type": "code",
   "execution_count": 45,
   "id": "24e3ff60",
   "metadata": {},
   "outputs": [],
   "source": [
    "#Step 1: Function defination\n",
    "def get_details():\n",
    "    print('Hello, Welcome to the 1st function')\n",
    "    print('Thank you!')"
   ]
  },
  {
   "cell_type": "code",
   "execution_count": 46,
   "id": "2854c76d",
   "metadata": {},
   "outputs": [
    {
     "name": "stdout",
     "output_type": "stream",
     "text": [
      "Hello, Welcome to the 1st function\n",
      "Thank you!\n"
     ]
    }
   ],
   "source": [
    "# Step 2: Calling a function\n",
    "get_details()"
   ]
  },
  {
   "cell_type": "code",
   "execution_count": 47,
   "id": "9b472eb3",
   "metadata": {},
   "outputs": [],
   "source": [
    "# Positional Arguments\n",
    "def get_numbers(num1, num2): # arguments\n",
    "    print('Number 1:', num1)\n",
    "    print('Number 2:', num2)\n",
    "    return num1*num2 # Termination point"
   ]
  },
  {
   "cell_type": "code",
   "execution_count": 48,
   "id": "9b276925",
   "metadata": {},
   "outputs": [
    {
     "name": "stdout",
     "output_type": "stream",
     "text": [
      "Number 1: 5\n",
      "Number 2: 2\n"
     ]
    },
    {
     "data": {
      "text/plain": [
       "10"
      ]
     },
     "execution_count": 48,
     "metadata": {},
     "output_type": "execute_result"
    }
   ],
   "source": [
    "get_numbers(5,2) # Parameters"
   ]
  },
  {
   "cell_type": "code",
   "execution_count": 49,
   "id": "f0f16fab",
   "metadata": {},
   "outputs": [],
   "source": [
    "def get_learner_details(l_id,l_name,l_age, l_work):\n",
    "    print('*******************************')\n",
    "    print('Learner id:',l_id)\n",
    "    print('Learner Name:', l_name)\n",
    "    print('Learner Age:', l_age)\n",
    "    print('Learner Workspace:',l_work)\n",
    "    print('*******************************')"
   ]
  },
  {
   "cell_type": "code",
   "execution_count": 50,
   "id": "0fa8c583",
   "metadata": {},
   "outputs": [
    {
     "name": "stdout",
     "output_type": "stream",
     "text": [
      "*******************************\n",
      "Learner id: 1\n",
      "Learner Name: Jay\n",
      "Learner Age: 23\n",
      "Learner Workspace: Unemployee\n",
      "*******************************\n"
     ]
    }
   ],
   "source": [
    "get_learner_details(1,'Jay',23,'Unemployee')"
   ]
  },
  {
   "cell_type": "code",
   "execution_count": 51,
   "id": "f2d2dfc4",
   "metadata": {},
   "outputs": [
    {
     "name": "stdout",
     "output_type": "stream",
     "text": [
      "*******************************\n",
      "Learner id: 2\n",
      "Learner Name: Rumi\n",
      "Learner Age: 23\n",
      "Learner Workspace: RBI\n",
      "*******************************\n"
     ]
    }
   ],
   "source": [
    "get_learner_details(2,'Rumi',23,'RBI')"
   ]
  },
  {
   "cell_type": "markdown",
   "id": "18c5bac3",
   "metadata": {},
   "source": [
    "##### Default Parameter "
   ]
  },
  {
   "cell_type": "code",
   "execution_count": 52,
   "id": "e8100c59",
   "metadata": {},
   "outputs": [],
   "source": [
    "def get_learner_details_2(l_id,l_name,l_age, l_work='Google'):\n",
    "    print('*******************************')\n",
    "    print('Learner id:',l_id)\n",
    "    print('Learner Name:', l_name)\n",
    "    print('Learner Age:', l_age)\n",
    "    print('Learner Workspace:',l_work)\n",
    "    print('*******************************')"
   ]
  },
  {
   "cell_type": "code",
   "execution_count": 53,
   "id": "e6158283",
   "metadata": {},
   "outputs": [
    {
     "name": "stdout",
     "output_type": "stream",
     "text": [
      "*******************************\n",
      "Learner id: 1\n",
      "Learner Name: Akki\n",
      "Learner Age: 23\n",
      "Learner Workspace: Google\n",
      "*******************************\n"
     ]
    }
   ],
   "source": [
    "get_learner_details_2(1,'Akki',23)"
   ]
  },
  {
   "cell_type": "code",
   "execution_count": 54,
   "id": "4da4fcbb",
   "metadata": {},
   "outputs": [
    {
     "name": "stdout",
     "output_type": "stream",
     "text": [
      "*******************************\n",
      "Learner id: 2\n",
      "Learner Name: Ajit\n",
      "Learner Age: 24\n",
      "Learner Workspace: Google\n",
      "*******************************\n"
     ]
    }
   ],
   "source": [
    "get_learner_details_2(2,'Ajit',24)"
   ]
  },
  {
   "cell_type": "code",
   "execution_count": 55,
   "id": "5b470880",
   "metadata": {},
   "outputs": [
    {
     "name": "stdout",
     "output_type": "stream",
     "text": [
      "*******************************\n",
      "Learner id: 3\n",
      "Learner Name: Jay\n",
      "Learner Age: 23\n",
      "Learner Workspace: Unemployee\n",
      "*******************************\n"
     ]
    }
   ],
   "source": [
    "get_learner_details_2(3,'Jay',23, 'Unemployee')"
   ]
  },
  {
   "cell_type": "markdown",
   "id": "b7fdac8d",
   "metadata": {},
   "source": [
    "##### Variable Length Arugument"
   ]
  },
  {
   "cell_type": "code",
   "execution_count": 56,
   "id": "0dfd0cc0",
   "metadata": {},
   "outputs": [],
   "source": [
    "def get_learner_details_3(l_id,l_name,l_age, *l_work):\n",
    "    print('*******************************')\n",
    "    print('Learner id:',l_id)\n",
    "    print('Learner Name:', l_name)\n",
    "    print('Learner Age:', l_age)\n",
    "    print('Learner Workspace:',l_work)\n",
    "    print('*******************************')"
   ]
  },
  {
   "cell_type": "code",
   "execution_count": 57,
   "id": "7e024b91",
   "metadata": {},
   "outputs": [
    {
     "name": "stdout",
     "output_type": "stream",
     "text": [
      "*******************************\n",
      "Learner id: 1\n",
      "Learner Name: Akki\n",
      "Learner Age: 23\n",
      "Learner Workspace: ('Google', 'IBM', 'Microsoft')\n",
      "*******************************\n"
     ]
    }
   ],
   "source": [
    "get_learner_details_3(1,'Akki',23,'Google','IBM','Microsoft')"
   ]
  },
  {
   "cell_type": "markdown",
   "id": "78443f49",
   "metadata": {},
   "source": [
    "##### Keyword Argument "
   ]
  },
  {
   "cell_type": "code",
   "execution_count": 58,
   "id": "7f495be5",
   "metadata": {},
   "outputs": [],
   "source": [
    "def get_learner_details_4(l_id,l_name,l_age, **l_work):\n",
    "    print('*******************************')\n",
    "    print('Learner id:',l_id)\n",
    "    print('Learner Name:', l_name)\n",
    "    print('Learner Age:', l_age)\n",
    "    print('Learner Workspace:',l_work)\n",
    "    print('*******************************')"
   ]
  },
  {
   "cell_type": "code",
   "execution_count": 59,
   "id": "13b98085",
   "metadata": {},
   "outputs": [
    {
     "name": "stdout",
     "output_type": "stream",
     "text": [
      "*******************************\n",
      "Learner id: 1\n",
      "Learner Name: Akki\n",
      "Learner Age: 23\n",
      "Learner Workspace: {'company_1': 'Google', 'company_2': 'IBM', 'company_3': 'Microsoft'}\n",
      "*******************************\n"
     ]
    }
   ],
   "source": [
    "get_learner_details_4(1,'Akki',23,company_1='Google',company_2='IBM',company_3='Microsoft')"
   ]
  },
  {
   "cell_type": "markdown",
   "id": "d17fe250",
   "metadata": {},
   "source": [
    "##### Variable length and keyword Argument "
   ]
  },
  {
   "cell_type": "code",
   "execution_count": 60,
   "id": "c846bfc2",
   "metadata": {},
   "outputs": [],
   "source": [
    "def get_learner_details_5(l_id,l_age,*l_name, **l_work):\n",
    "    print('*******************************')\n",
    "    print('Learner id:',l_id)\n",
    "    print('Learner Name:', l_name)\n",
    "    print('Learner Age:', l_age)\n",
    "    print('Learner Workspace:',l_work)\n",
    "    print('*******************************')"
   ]
  },
  {
   "cell_type": "code",
   "execution_count": 61,
   "id": "63cc8467",
   "metadata": {},
   "outputs": [
    {
     "name": "stdout",
     "output_type": "stream",
     "text": [
      "*******************************\n",
      "Learner id: 1\n",
      "Learner Name: ('Akki', 'Rumi', 'Aishu')\n",
      "Learner Age: 23\n",
      "Learner Workspace: {'company_1': 'Google', 'company_2': 'IBM', 'company_3': 'Microsoft'}\n",
      "*******************************\n"
     ]
    }
   ],
   "source": [
    "get_learner_details_5(1,23,'Akki','Rumi','Aishu',company_1='Google',company_2='IBM',company_3='Microsoft')"
   ]
  },
  {
   "cell_type": "markdown",
   "id": "48b04267",
   "metadata": {},
   "source": [
    "#### 4(b) Run in circles "
   ]
  },
  {
   "cell_type": "code",
   "execution_count": 62,
   "id": "ca23483c",
   "metadata": {},
   "outputs": [
    {
     "data": {
      "text/plain": [
       "range(1, 21)"
      ]
     },
     "execution_count": 62,
     "metadata": {},
     "output_type": "execute_result"
    }
   ],
   "source": [
    "range(1,21)"
   ]
  },
  {
   "cell_type": "code",
   "execution_count": 63,
   "id": "35d653aa",
   "metadata": {},
   "outputs": [
    {
     "name": "stdout",
     "output_type": "stream",
     "text": [
      "1\n",
      "2\n",
      "3\n",
      "4\n",
      "5\n",
      "6\n",
      "7\n",
      "8\n",
      "9\n",
      "10\n",
      "11\n",
      "12\n",
      "13\n",
      "14\n",
      "15\n",
      "16\n",
      "17\n",
      "18\n",
      "19\n",
      "20\n"
     ]
    }
   ],
   "source": [
    "for i in range(1,21):\n",
    "    print(i)"
   ]
  },
  {
   "cell_type": "code",
   "execution_count": 64,
   "id": "1f1cf14d",
   "metadata": {},
   "outputs": [
    {
     "name": "stdout",
     "output_type": "stream",
     "text": [
      "1\n",
      "3\n",
      "5\n",
      "7\n",
      "9\n",
      "11\n",
      "13\n",
      "15\n",
      "17\n",
      "19\n"
     ]
    }
   ],
   "source": [
    "for i in range(1,21,2):\n",
    "    print(i)"
   ]
  },
  {
   "cell_type": "code",
   "execution_count": 65,
   "id": "36f51529",
   "metadata": {},
   "outputs": [
    {
     "name": "stdout",
     "output_type": "stream",
     "text": [
      "3* 1 = 3\n",
      "3* 2 = 6\n",
      "3* 3 = 9\n",
      "3* 4 = 12\n",
      "3* 5 = 15\n",
      "3* 6 = 18\n",
      "3* 7 = 21\n",
      "3* 8 = 24\n",
      "3* 9 = 27\n",
      "3* 10 = 30\n"
     ]
    }
   ],
   "source": [
    "for i in range(1,11):\n",
    "    print('3*',i,'=',3*i)"
   ]
  },
  {
   "cell_type": "markdown",
   "id": "bf05ad45",
   "metadata": {},
   "source": [
    "## Chapter 5: Conditional logic "
   ]
  },
  {
   "cell_type": "markdown",
   "id": "d00c3bf8",
   "metadata": {},
   "source": [
    "#### 5(1) Compare Values "
   ]
  },
  {
   "cell_type": "code",
   "execution_count": 66,
   "id": "2db1fae1",
   "metadata": {},
   "outputs": [
    {
     "data": {
      "text/plain": [
       "True"
      ]
     },
     "execution_count": 66,
     "metadata": {},
     "output_type": "execute_result"
    }
   ],
   "source": [
    "5==5 # equal operator"
   ]
  },
  {
   "cell_type": "code",
   "execution_count": 67,
   "id": "58299234",
   "metadata": {},
   "outputs": [
    {
     "data": {
      "text/plain": [
       "False"
      ]
     },
     "execution_count": 67,
     "metadata": {},
     "output_type": "execute_result"
    }
   ],
   "source": [
    "5.5=='5.5'"
   ]
  },
  {
   "cell_type": "code",
   "execution_count": 68,
   "id": "9dcc94b7",
   "metadata": {},
   "outputs": [
    {
     "data": {
      "text/plain": [
       "True"
      ]
     },
     "execution_count": 68,
     "metadata": {},
     "output_type": "execute_result"
    }
   ],
   "source": [
    "'a'=='a'"
   ]
  },
  {
   "cell_type": "code",
   "execution_count": 69,
   "id": "99e90f9f",
   "metadata": {},
   "outputs": [
    {
     "data": {
      "text/plain": [
       "True"
      ]
     },
     "execution_count": 69,
     "metadata": {},
     "output_type": "execute_result"
    }
   ],
   "source": [
    "7 != 5 # not equal"
   ]
  },
  {
   "cell_type": "code",
   "execution_count": 70,
   "id": "d7bd68b8",
   "metadata": {},
   "outputs": [
    {
     "data": {
      "text/plain": [
       "1"
      ]
     },
     "execution_count": 70,
     "metadata": {},
     "output_type": "execute_result"
    }
   ],
   "source": [
    "7%2"
   ]
  },
  {
   "cell_type": "code",
   "execution_count": 71,
   "id": "d3c8ef7d",
   "metadata": {},
   "outputs": [
    {
     "data": {
      "text/plain": [
       "False"
      ]
     },
     "execution_count": 71,
     "metadata": {},
     "output_type": "execute_result"
    }
   ],
   "source": [
    "7%2==0"
   ]
  },
  {
   "cell_type": "markdown",
   "id": "c66d5423",
   "metadata": {},
   "source": [
    "#### 5(b) Add some logic "
   ]
  },
  {
   "cell_type": "markdown",
   "id": "01f0fb91",
   "metadata": {},
   "source": [
    "**Different Operators in python**\n",
    "\n",
    "1. **AND** Operator: will return True only if both conditions are True.\n",
    "2. **OR** Operator: will return True if anyone condition is True.\n",
    "3. **IN** Operator: we use to check if that particular word is available in my data.\n",
    "4. **NOT IN** Operator:we use to check if that particular word is not available in my data."
   ]
  },
  {
   "cell_type": "code",
   "execution_count": 72,
   "id": "47adb189",
   "metadata": {},
   "outputs": [],
   "source": [
    "math=68\n",
    "stats=78\n",
    "comp=50"
   ]
  },
  {
   "cell_type": "code",
   "execution_count": 73,
   "id": "e2569960",
   "metadata": {},
   "outputs": [
    {
     "data": {
      "text/plain": [
       "True"
      ]
     },
     "execution_count": 73,
     "metadata": {},
     "output_type": "execute_result"
    }
   ],
   "source": [
    "math < stats"
   ]
  },
  {
   "cell_type": "code",
   "execution_count": 74,
   "id": "b014d3a8",
   "metadata": {},
   "outputs": [
    {
     "data": {
      "text/plain": [
       "False"
      ]
     },
     "execution_count": 74,
     "metadata": {},
     "output_type": "execute_result"
    }
   ],
   "source": [
    "stats < comp"
   ]
  },
  {
   "cell_type": "code",
   "execution_count": 75,
   "id": "cb249c5d",
   "metadata": {},
   "outputs": [
    {
     "data": {
      "text/plain": [
       "False"
      ]
     },
     "execution_count": 75,
     "metadata": {},
     "output_type": "execute_result"
    }
   ],
   "source": [
    "math < stats and stats < comp"
   ]
  },
  {
   "cell_type": "code",
   "execution_count": 76,
   "id": "41e44ea2",
   "metadata": {},
   "outputs": [
    {
     "data": {
      "text/plain": [
       "True"
      ]
     },
     "execution_count": 76,
     "metadata": {},
     "output_type": "execute_result"
    }
   ],
   "source": [
    "math < stats and stats > comp"
   ]
  },
  {
   "cell_type": "code",
   "execution_count": 77,
   "id": "6da9d957",
   "metadata": {},
   "outputs": [
    {
     "data": {
      "text/plain": [
       "True"
      ]
     },
     "execution_count": 77,
     "metadata": {},
     "output_type": "execute_result"
    }
   ],
   "source": [
    "math < stats or stats < comp"
   ]
  },
  {
   "cell_type": "code",
   "execution_count": 78,
   "id": "ed0ca2d6",
   "metadata": {},
   "outputs": [],
   "source": [
    "jay_feedback= 'Data Science class is bit okay, but not matching my expectation'"
   ]
  },
  {
   "cell_type": "code",
   "execution_count": 79,
   "id": "cb177156",
   "metadata": {},
   "outputs": [
    {
     "data": {
      "text/plain": [
       "False"
      ]
     },
     "execution_count": 79,
     "metadata": {},
     "output_type": "execute_result"
    }
   ],
   "source": [
    "'good' in jay_feedback"
   ]
  },
  {
   "cell_type": "code",
   "execution_count": 80,
   "id": "6e707db3",
   "metadata": {},
   "outputs": [
    {
     "data": {
      "text/plain": [
       "True"
      ]
     },
     "execution_count": 80,
     "metadata": {},
     "output_type": "execute_result"
    }
   ],
   "source": [
    "'good' not in jay_feedback"
   ]
  },
  {
   "cell_type": "markdown",
   "id": "bab81633",
   "metadata": {},
   "source": [
    "#### 5(c). Control the flow of the program"
   ]
  },
  {
   "cell_type": "code",
   "execution_count": 81,
   "id": "729c96fb",
   "metadata": {},
   "outputs": [
    {
     "name": "stdout",
     "output_type": "stream",
     "text": [
      "Enter password:Jayanth\n",
      "Strong password\n"
     ]
    }
   ],
   "source": [
    "user_password=input('Enter password:')\n",
    "if len(user_password)>=5:\n",
    "    print('Strong password') \n",
    "else:\n",
    "    print('Weak password')"
   ]
  },
  {
   "cell_type": "code",
   "execution_count": 82,
   "id": "4705cd0d",
   "metadata": {},
   "outputs": [
    {
     "name": "stdout",
     "output_type": "stream",
     "text": [
      "Enter password:Jay\n",
      "Weak password\n"
     ]
    }
   ],
   "source": [
    "user_password=input('Enter password:')\n",
    "if len(user_password)>=8:\n",
    "    print('Strong password') \n",
    "elif len(user_password)>=5 and len(user_password)<8:\n",
    "    print('Moderate password')\n",
    "else:\n",
    "    print('Weak password')"
   ]
  },
  {
   "cell_type": "markdown",
   "id": "c05e4b96",
   "metadata": {},
   "source": [
    "#### 5(d) Find the factors of a number\n",
    "\n",
    "1. Get an input from the user.\n",
    "2. If user enters 10, the output should be 1,2,5,10"
   ]
  },
  {
   "cell_type": "code",
   "execution_count": 83,
   "id": "606d5174",
   "metadata": {},
   "outputs": [
    {
     "name": "stdout",
     "output_type": "stream",
     "text": [
      "Enter the number to find the factors of a number:20\n",
      "1\n",
      "2\n",
      "4\n",
      "5\n",
      "10\n",
      "20\n"
     ]
    }
   ],
   "source": [
    "user_input=int(input('Enter the number to find the factors of a number:'))\n",
    "for i in range(1, user_input+1):\n",
    "    if user_input%i==0:\n",
    "        print(i)"
   ]
  },
  {
   "cell_type": "markdown",
   "id": "457c8c1e",
   "metadata": {},
   "source": [
    "#### 5(e). Break Out of the Pattern"
   ]
  },
  {
   "cell_type": "code",
   "execution_count": 84,
   "id": "09a4fa22",
   "metadata": {},
   "outputs": [
    {
     "name": "stdout",
     "output_type": "stream",
     "text": [
      "Type q to quit this window:a\n",
      "Type q to quit this window:s\n",
      "Type q to quit this window:d\n",
      "Type q to quit this window:w\n",
      "Type q to quit this window:Q\n",
      "Type q to quit this window:q\n"
     ]
    }
   ],
   "source": [
    "# Using break statement\n",
    "while True:\n",
    "    user_input=input('Type q to quit this window:')\n",
    "    if user_input=='q':\n",
    "        break"
   ]
  },
  {
   "cell_type": "code",
   "execution_count": 86,
   "id": "19d1ab72",
   "metadata": {},
   "outputs": [
    {
     "name": "stdout",
     "output_type": "stream",
     "text": [
      "Type q to quit this window:Q\n"
     ]
    }
   ],
   "source": [
    "while True:\n",
    "    user_input=input('Type q to quit this window:')\n",
    "    if user_input.lower()=='q':\n",
    "        break"
   ]
  },
  {
   "cell_type": "code",
   "execution_count": 87,
   "id": "18e08ee4",
   "metadata": {},
   "outputs": [
    {
     "name": "stdout",
     "output_type": "stream",
     "text": [
      "1\n",
      "3\n",
      "5\n",
      "7\n",
      "9\n",
      "11\n",
      "13\n",
      "15\n",
      "17\n",
      "19\n",
      "21\n",
      "23\n",
      "25\n",
      "27\n",
      "29\n",
      "31\n",
      "33\n",
      "35\n",
      "37\n",
      "39\n",
      "41\n",
      "43\n",
      "45\n",
      "47\n",
      "49\n",
      "51\n",
      "53\n",
      "55\n",
      "57\n",
      "59\n",
      "61\n",
      "63\n",
      "65\n",
      "67\n",
      "69\n",
      "71\n",
      "73\n",
      "75\n",
      "77\n",
      "79\n",
      "81\n",
      "83\n",
      "85\n",
      "87\n",
      "89\n",
      "91\n",
      "93\n",
      "95\n",
      "97\n",
      "99\n"
     ]
    }
   ],
   "source": [
    "#Using continue statement\n",
    "for i in range(1,101,1):\n",
    "    if (i%2==0):\n",
    "        continue\n",
    "    print(i)"
   ]
  },
  {
   "cell_type": "markdown",
   "id": "570727cb",
   "metadata": {},
   "source": [
    "### Task 2: Work on with Loops, functions"
   ]
  },
  {
   "cell_type": "markdown",
   "id": "e1ac8fdb",
   "metadata": {},
   "source": [
    "### Task 3: List Comprehension"
   ]
  },
  {
   "cell_type": "code",
   "execution_count": 1,
   "id": "bfd3270b",
   "metadata": {},
   "outputs": [
    {
     "ename": "SyntaxError",
     "evalue": "invalid syntax (<ipython-input-1-eb0295c22a3e>, line 1)",
     "output_type": "error",
     "traceback": [
      "\u001b[1;36m  File \u001b[1;32m\"<ipython-input-1-eb0295c22a3e>\"\u001b[1;36m, line \u001b[1;32m1\u001b[0m\n\u001b[1;33m    //def z_test_prop():\u001b[0m\n\u001b[1;37m    ^\u001b[0m\n\u001b[1;31mSyntaxError\u001b[0m\u001b[1;31m:\u001b[0m invalid syntax\n"
     ]
    }
   ],
   "source": [
    "//def z_test_prop():\n",
    "    while True:\n",
    "        p=float(input('Input null hypothesis:'))\n",
    "        cond=input('Input condition of null hypothesis:')\n",
    "        if '<' and '='in cond:\n",
    "            print('H0:p<=',p)\n",
    "            print('H1:p>',p)\n",
    "        elif '>'and'=' in cond:\n",
    "            print('H0:p>=',p)\n",
    "            print('H1:p<',p)\n",
    "        elif '=' in cond:\n",
    "            print('H0:p=',p)\n",
    "            print('H1:p is not equal ',p)\n",
    "        elif '>' in cond:\n",
    "            print('H0:p>',p)\n",
    "            print('H1:p<',p)\n",
    "        elif '<' in cond:\n",
    "            print('H0:p<',p)\n",
    "            print('H1:p>',p)\n",
    "        else:\n",
    "            print('Not specified properly')\n",
    "            break\n",
    "        n=int(input('Enter sample size:'))\n",
    "        P=float(input('Enter population propotion:'))\n",
    "        z=(P-p)/np.sqrt((p*(1-p))/n)\n",
    "        print('The test statistic is',z)\n",
    "        p_value=1-stats.norm.cdf(abs(z))\n",
    "        print(\"The p value is\",p_value)\n",
    "        if p_value>0.05:\n",
    "            print('Since p value is greater than 0.05,we do not reject null hypothesis')\n",
    "        else:\n",
    "            print('Since p value is less than 0.05,we reject null hypothesis')\n",
    "        return('********************************************************************************************')//"
   ]
  },
  {
   "cell_type": "code",
   "execution_count": null,
   "id": "e3295806",
   "metadata": {},
   "outputs": [],
   "source": []
  }
 ],
 "metadata": {
  "kernelspec": {
   "display_name": "Python 3",
   "language": "python",
   "name": "python3"
  },
  "language_info": {
   "codemirror_mode": {
    "name": "ipython",
    "version": 3
   },
   "file_extension": ".py",
   "mimetype": "text/x-python",
   "name": "python",
   "nbconvert_exporter": "python",
   "pygments_lexer": "ipython3",
   "version": "3.8.8"
  }
 },
 "nbformat": 4,
 "nbformat_minor": 5
}
