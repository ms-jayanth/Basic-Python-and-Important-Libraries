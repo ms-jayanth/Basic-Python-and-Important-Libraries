{
 "cells": [
  {
   "cell_type": "markdown",
   "id": "9c8dd68d",
   "metadata": {},
   "source": [
    "# Data Structures In Python"
   ]
  },
  {
   "cell_type": "markdown",
   "id": "0123fef2",
   "metadata": {},
   "source": [
    "### 4 Data Structures in Python\n",
    "\n",
    "1. List\n",
    "2. Sets\n",
    "3. Tuples\n",
    "4. Dict"
   ]
  },
  {
   "cell_type": "markdown",
   "id": "2ac23f8b",
   "metadata": {},
   "source": [
    "### 1. List\n",
    "\n",
    "* 1D\n",
    "* Heterogenous\n",
    "* Mutable/ Changable\n",
    "* Allows duplicate elements\n",
    "* Indexing and Slicing"
   ]
  },
  {
   "cell_type": "code",
   "execution_count": 1,
   "id": "c6336b6e",
   "metadata": {},
   "outputs": [],
   "source": [
    "empty_cart_1=[] # Empty list"
   ]
  },
  {
   "cell_type": "code",
   "execution_count": 2,
   "id": "6117eba5",
   "metadata": {},
   "outputs": [
    {
     "data": {
      "text/plain": [
       "list"
      ]
     },
     "execution_count": 2,
     "metadata": {},
     "output_type": "execute_result"
    }
   ],
   "source": [
    "type(empty_cart_1)"
   ]
  },
  {
   "cell_type": "code",
   "execution_count": 3,
   "id": "343ec597",
   "metadata": {},
   "outputs": [
    {
     "data": {
      "text/plain": [
       "['Akki', 'Anu', 'Diksha', 'Jay', 'Rumi', 'John']"
      ]
     },
     "execution_count": 3,
     "metadata": {},
     "output_type": "execute_result"
    }
   ],
   "source": [
    "learner_names=['Akki','Anu','Diksha','Jay','Rumi','John']\n",
    "learner_names"
   ]
  },
  {
   "cell_type": "code",
   "execution_count": 4,
   "id": "b331ceb4",
   "metadata": {},
   "outputs": [
    {
     "data": {
      "text/plain": [
       "list"
      ]
     },
     "execution_count": 4,
     "metadata": {},
     "output_type": "execute_result"
    }
   ],
   "source": [
    "type(learner_names)"
   ]
  },
  {
   "cell_type": "code",
   "execution_count": 5,
   "id": "0f7abef2",
   "metadata": {},
   "outputs": [
    {
     "data": {
      "text/plain": [
       "['Akki', 'Anu', 'Diksha', 'Jay', 'Rumi', 'John', 'Akki', 'Jay']"
      ]
     },
     "execution_count": 5,
     "metadata": {},
     "output_type": "execute_result"
    }
   ],
   "source": [
    "learner_names_1=['Akki','Anu','Diksha','Jay','Rumi','John','Akki','Jay'] # Allows duplicates, different d types\n",
    "learner_names_1"
   ]
  },
  {
   "cell_type": "code",
   "execution_count": 7,
   "id": "e70e12ee",
   "metadata": {},
   "outputs": [
    {
     "data": {
      "text/plain": [
       "'Diksha'"
      ]
     },
     "execution_count": 7,
     "metadata": {},
     "output_type": "execute_result"
    }
   ],
   "source": [
    "learner_names_1[2] #Indexing"
   ]
  },
  {
   "cell_type": "code",
   "execution_count": 8,
   "id": "dda4442e",
   "metadata": {},
   "outputs": [
    {
     "data": {
      "text/plain": [
       "['Anu', 'Diksha', 'Jay', 'Rumi']"
      ]
     },
     "execution_count": 8,
     "metadata": {},
     "output_type": "execute_result"
    }
   ],
   "source": [
    "learner_names_1[1:5] #Slicing"
   ]
  },
  {
   "cell_type": "code",
   "execution_count": 9,
   "id": "cebce263",
   "metadata": {},
   "outputs": [
    {
     "data": {
      "text/plain": [
       "['Akki', 'Anu', 'Diksha', 'Jay', 'Rumi', 'John', 'Krish', 'Jay']"
      ]
     },
     "execution_count": 9,
     "metadata": {},
     "output_type": "execute_result"
    }
   ],
   "source": [
    "learner_names_1[6]='Krish' # Mutable\n",
    "learner_names_1"
   ]
  },
  {
   "cell_type": "code",
   "execution_count": 10,
   "id": "14c81b54",
   "metadata": {},
   "outputs": [
    {
     "data": {
      "text/plain": [
       "['apple', 'table', 4, 'Mithun', 3.56]"
      ]
     },
     "execution_count": 10,
     "metadata": {},
     "output_type": "execute_result"
    }
   ],
   "source": [
    "check_type=['apple', 'table', 4, 'Mithun', 3.56]\n",
    "check_type"
   ]
  },
  {
   "cell_type": "code",
   "execution_count": 11,
   "id": "062ede90",
   "metadata": {},
   "outputs": [
    {
     "name": "stdout",
     "output_type": "stream",
     "text": [
      "<class 'str'>\n",
      "<class 'str'>\n",
      "<class 'int'>\n",
      "<class 'str'>\n",
      "<class 'float'>\n"
     ]
    }
   ],
   "source": [
    "for i in check_type:\n",
    "    print(type(i))"
   ]
  },
  {
   "cell_type": "code",
   "execution_count": 12,
   "id": "143a71ed",
   "metadata": {},
   "outputs": [
    {
     "data": {
      "text/plain": [
       "['Akki', 'Anu', 'Diksha', 'Jay', 'Rumi', 'John', 'Krish', 'Jay', 'Zoo']"
      ]
     },
     "execution_count": 12,
     "metadata": {},
     "output_type": "execute_result"
    }
   ],
   "source": [
    "learner_names_1.append('Zoo')\n",
    "learner_names_1"
   ]
  },
  {
   "cell_type": "markdown",
   "id": "abdfd42b",
   "metadata": {},
   "source": [
    "### 2. Sets\n",
    "\n",
    "* 1D\n",
    "* Heterogenous\n",
    "* Mutable\n",
    "* No duplicates\n",
    "* Not Indexable and Not slicable"
   ]
  },
  {
   "cell_type": "code",
   "execution_count": 13,
   "id": "72fa0f31",
   "metadata": {},
   "outputs": [
    {
     "data": {
      "text/plain": [
       "set()"
      ]
     },
     "execution_count": 13,
     "metadata": {},
     "output_type": "execute_result"
    }
   ],
   "source": [
    "empty_cart_2=set() # Empty set\n",
    "empty_cart_2"
   ]
  },
  {
   "cell_type": "code",
   "execution_count": 14,
   "id": "ec3974e3",
   "metadata": {},
   "outputs": [
    {
     "data": {
      "text/plain": [
       "{'Akki', 'Anu', 'Diksha', 'Jay', 'John', 'Rumi'}"
      ]
     },
     "execution_count": 14,
     "metadata": {},
     "output_type": "execute_result"
    }
   ],
   "source": [
    "learner_names_2={'Akki','Anu','Diksha','Jay','Rumi','John','Akki','Jay'} # Doesn't allow duplicate values\n",
    "learner_names_2"
   ]
  },
  {
   "cell_type": "code",
   "execution_count": 15,
   "id": "b1dbdd9e",
   "metadata": {},
   "outputs": [
    {
     "ename": "TypeError",
     "evalue": "'set' object is not subscriptable",
     "output_type": "error",
     "traceback": [
      "\u001b[1;31m---------------------------------------------------------------------------\u001b[0m",
      "\u001b[1;31mTypeError\u001b[0m                                 Traceback (most recent call last)",
      "\u001b[1;32m<ipython-input-15-18682b203c9f>\u001b[0m in \u001b[0;36m<module>\u001b[1;34m\u001b[0m\n\u001b[1;32m----> 1\u001b[1;33m \u001b[0mlearner_names_2\u001b[0m\u001b[1;33m[\u001b[0m\u001b[1;36m1\u001b[0m\u001b[1;33m]\u001b[0m \u001b[1;31m# Cannot do indexing\u001b[0m\u001b[1;33m\u001b[0m\u001b[1;33m\u001b[0m\u001b[0m\n\u001b[0m",
      "\u001b[1;31mTypeError\u001b[0m: 'set' object is not subscriptable"
     ]
    }
   ],
   "source": [
    "learner_names_2[1] # Cannot do indexing"
   ]
  },
  {
   "cell_type": "code",
   "execution_count": 16,
   "id": "538ab0a5",
   "metadata": {},
   "outputs": [
    {
     "ename": "TypeError",
     "evalue": "'set' object is not subscriptable",
     "output_type": "error",
     "traceback": [
      "\u001b[1;31m---------------------------------------------------------------------------\u001b[0m",
      "\u001b[1;31mTypeError\u001b[0m                                 Traceback (most recent call last)",
      "\u001b[1;32m<ipython-input-16-e7a05b0210f1>\u001b[0m in \u001b[0;36m<module>\u001b[1;34m\u001b[0m\n\u001b[1;32m----> 1\u001b[1;33m \u001b[0mlearner_names_2\u001b[0m\u001b[1;33m[\u001b[0m\u001b[1;33m:\u001b[0m\u001b[1;36m5\u001b[0m\u001b[1;33m]\u001b[0m \u001b[1;31m# Cannot do slicing\u001b[0m\u001b[1;33m\u001b[0m\u001b[1;33m\u001b[0m\u001b[0m\n\u001b[0m",
      "\u001b[1;31mTypeError\u001b[0m: 'set' object is not subscriptable"
     ]
    }
   ],
   "source": [
    "learner_names_2[:5] # Cannot do slicing"
   ]
  },
  {
   "cell_type": "code",
   "execution_count": 17,
   "id": "f4a0727f",
   "metadata": {},
   "outputs": [
    {
     "data": {
      "text/plain": [
       "set"
      ]
     },
     "execution_count": 17,
     "metadata": {},
     "output_type": "execute_result"
    }
   ],
   "source": [
    "type(learner_names_2)"
   ]
  },
  {
   "cell_type": "code",
   "execution_count": 18,
   "id": "e2d7ab09",
   "metadata": {},
   "outputs": [
    {
     "data": {
      "text/plain": [
       "{'Akki', 'Anu', 'Bala', 'Diksha', 'Jay', 'John', 'Rumi'}"
      ]
     },
     "execution_count": 18,
     "metadata": {},
     "output_type": "execute_result"
    }
   ],
   "source": [
    "learner_names_2.add('Bala')\n",
    "learner_names_2"
   ]
  },
  {
   "cell_type": "code",
   "execution_count": 19,
   "id": "effd1d78",
   "metadata": {},
   "outputs": [
    {
     "data": {
      "text/plain": [
       "set()"
      ]
     },
     "execution_count": 19,
     "metadata": {},
     "output_type": "execute_result"
    }
   ],
   "source": [
    "learner_names_2.clear()\n",
    "learner_names_2"
   ]
  },
  {
   "cell_type": "markdown",
   "id": "8f5005cb",
   "metadata": {},
   "source": [
    "#### Task:\n",
    "Explore all data structure related methods."
   ]
  },
  {
   "cell_type": "markdown",
   "id": "ab8a2ee8",
   "metadata": {},
   "source": [
    "### 3. Tuple\n",
    "\n",
    "* 1D\n",
    "* Heterogenous\n",
    "* Allows duplicate elements\n",
    "* Not mutable/ not changable\n",
    "* Indexable and Sliceable"
   ]
  },
  {
   "cell_type": "code",
   "execution_count": 20,
   "id": "849ca9c3",
   "metadata": {},
   "outputs": [
    {
     "data": {
      "text/plain": [
       "()"
      ]
     },
     "execution_count": 20,
     "metadata": {},
     "output_type": "execute_result"
    }
   ],
   "source": [
    "empty_cart_3=()\n",
    "empty_cart_3"
   ]
  },
  {
   "cell_type": "code",
   "execution_count": 21,
   "id": "a2280d3c",
   "metadata": {},
   "outputs": [
    {
     "data": {
      "text/plain": [
       "tuple"
      ]
     },
     "execution_count": 21,
     "metadata": {},
     "output_type": "execute_result"
    }
   ],
   "source": [
    "type(empty_cart_3)"
   ]
  },
  {
   "cell_type": "code",
   "execution_count": 22,
   "id": "230a2631",
   "metadata": {},
   "outputs": [
    {
     "data": {
      "text/plain": [
       "('Akki', 'Anu', 'Diksha', 'Jay', 'Rumi', 'John', 'Akki', 'Jay')"
      ]
     },
     "execution_count": 22,
     "metadata": {},
     "output_type": "execute_result"
    }
   ],
   "source": [
    "learner_names_3=('Akki','Anu','Diksha','Jay','Rumi','John','Akki','Jay') # Allows duplicate\n",
    "learner_names_3"
   ]
  },
  {
   "cell_type": "code",
   "execution_count": 23,
   "id": "79f9f93d",
   "metadata": {},
   "outputs": [
    {
     "data": {
      "text/plain": [
       "tuple"
      ]
     },
     "execution_count": 23,
     "metadata": {},
     "output_type": "execute_result"
    }
   ],
   "source": [
    "type(learner_names_3)"
   ]
  },
  {
   "cell_type": "code",
   "execution_count": 24,
   "id": "2d57b998",
   "metadata": {},
   "outputs": [],
   "source": [
    "#Default: without braces it will consider as tuple\n",
    "learner_names_4='Akki','Anu','Diksha','Jay','Rumi','John','Akki','Jay'"
   ]
  },
  {
   "cell_type": "code",
   "execution_count": 25,
   "id": "d37fd1d0",
   "metadata": {},
   "outputs": [
    {
     "data": {
      "text/plain": [
       "tuple"
      ]
     },
     "execution_count": 25,
     "metadata": {},
     "output_type": "execute_result"
    }
   ],
   "source": [
    "type(learner_names_4)"
   ]
  },
  {
   "cell_type": "code",
   "execution_count": 26,
   "id": "329c0ce0",
   "metadata": {},
   "outputs": [
    {
     "data": {
      "text/plain": [
       "'Jay'"
      ]
     },
     "execution_count": 26,
     "metadata": {},
     "output_type": "execute_result"
    }
   ],
   "source": [
    "learner_names_4[3] # Can do indexing"
   ]
  },
  {
   "cell_type": "code",
   "execution_count": 27,
   "id": "7091c29f",
   "metadata": {},
   "outputs": [
    {
     "data": {
      "text/plain": [
       "('Akki', 'Anu', 'Diksha', 'Jay')"
      ]
     },
     "execution_count": 27,
     "metadata": {},
     "output_type": "execute_result"
    }
   ],
   "source": [
    "learner_names_4[:4] # Can do slicing"
   ]
  },
  {
   "cell_type": "code",
   "execution_count": 28,
   "id": "7708329c",
   "metadata": {},
   "outputs": [
    {
     "ename": "TypeError",
     "evalue": "'tuple' object does not support item assignment",
     "output_type": "error",
     "traceback": [
      "\u001b[1;31m---------------------------------------------------------------------------\u001b[0m",
      "\u001b[1;31mTypeError\u001b[0m                                 Traceback (most recent call last)",
      "\u001b[1;32m<ipython-input-28-bfc3a23f3db3>\u001b[0m in \u001b[0;36m<module>\u001b[1;34m\u001b[0m\n\u001b[1;32m----> 1\u001b[1;33m \u001b[0mlearner_names_4\u001b[0m\u001b[1;33m[\u001b[0m\u001b[1;36m5\u001b[0m\u001b[1;33m]\u001b[0m\u001b[1;33m=\u001b[0m\u001b[1;34m'Sid'\u001b[0m \u001b[1;31m# Can not mutate\u001b[0m\u001b[1;33m\u001b[0m\u001b[1;33m\u001b[0m\u001b[0m\n\u001b[0m",
      "\u001b[1;31mTypeError\u001b[0m: 'tuple' object does not support item assignment"
     ]
    }
   ],
   "source": [
    "learner_names_4[5]='Sid' # Can not mutate"
   ]
  },
  {
   "cell_type": "markdown",
   "id": "fbb46f64",
   "metadata": {},
   "source": [
    "### 4. Dictionary\n",
    "\n",
    "We call it as **key:value** pair.\n",
    "\n",
    "* 2D\n",
    "* Heterogenous\n",
    "* Not Indexable and Not slicable\n",
    "* can not cantain duplicate keys but can contain duplicate values"
   ]
  },
  {
   "cell_type": "code",
   "execution_count": 29,
   "id": "12aa32c2",
   "metadata": {},
   "outputs": [],
   "source": [
    "empty_cart_4={}"
   ]
  },
  {
   "cell_type": "code",
   "execution_count": 30,
   "id": "eca3ccf8",
   "metadata": {},
   "outputs": [
    {
     "data": {
      "text/plain": [
       "dict"
      ]
     },
     "execution_count": 30,
     "metadata": {},
     "output_type": "execute_result"
    }
   ],
   "source": [
    "type(empty_cart_4)"
   ]
  },
  {
   "cell_type": "code",
   "execution_count": 31,
   "id": "4eb2f4bc",
   "metadata": {},
   "outputs": [
    {
     "data": {
      "text/plain": [
       "{'Milk': 2, 'Oats': 1, 'Aplle': '2kg'}"
      ]
     },
     "execution_count": 31,
     "metadata": {},
     "output_type": "execute_result"
    }
   ],
   "source": [
    "items_to_buy={'Milk':2,\n",
    "             'Oats':1,\n",
    "             'Aplle':'2kg'}\n",
    "items_to_buy"
   ]
  },
  {
   "cell_type": "code",
   "execution_count": 32,
   "id": "7c7ca2b4",
   "metadata": {},
   "outputs": [
    {
     "data": {
      "text/plain": [
       "dict_keys(['Milk', 'Oats', 'Aplle'])"
      ]
     },
     "execution_count": 32,
     "metadata": {},
     "output_type": "execute_result"
    }
   ],
   "source": [
    "items_to_buy.keys()"
   ]
  },
  {
   "cell_type": "code",
   "execution_count": 33,
   "id": "a295fac3",
   "metadata": {},
   "outputs": [
    {
     "data": {
      "text/plain": [
       "dict_values([2, 1, '2kg'])"
      ]
     },
     "execution_count": 33,
     "metadata": {},
     "output_type": "execute_result"
    }
   ],
   "source": [
    "items_to_buy.values()"
   ]
  },
  {
   "cell_type": "code",
   "execution_count": 34,
   "id": "6b04dcff",
   "metadata": {},
   "outputs": [
    {
     "ename": "KeyError",
     "evalue": "0",
     "output_type": "error",
     "traceback": [
      "\u001b[1;31m---------------------------------------------------------------------------\u001b[0m",
      "\u001b[1;31mKeyError\u001b[0m                                  Traceback (most recent call last)",
      "\u001b[1;32m<ipython-input-34-a38fba7f37a0>\u001b[0m in \u001b[0;36m<module>\u001b[1;34m\u001b[0m\n\u001b[1;32m----> 1\u001b[1;33m \u001b[0mitems_to_buy\u001b[0m\u001b[1;33m[\u001b[0m\u001b[1;36m0\u001b[0m\u001b[1;33m]\u001b[0m \u001b[1;31m# Can not so indexing\u001b[0m\u001b[1;33m\u001b[0m\u001b[1;33m\u001b[0m\u001b[0m\n\u001b[0m",
      "\u001b[1;31mKeyError\u001b[0m: 0"
     ]
    }
   ],
   "source": [
    "items_to_buy[0] # Can not so indexing"
   ]
  },
  {
   "cell_type": "code",
   "execution_count": 35,
   "id": "a0f26bdb",
   "metadata": {},
   "outputs": [
    {
     "data": {
      "text/plain": [
       "{'fname': ['Jayanth', 'Akhila', 'Rumana'],\n",
       " 'lname': ['MS', 'Hegde', 'Patel'],\n",
       " 'age': [22, 23, 23]}"
      ]
     },
     "execution_count": 35,
     "metadata": {},
     "output_type": "execute_result"
    }
   ],
   "source": [
    "learner_details={'fname':['Jayanth','Akhila','Rumana'],\n",
    "                'lname':['MS','Hegde','Patel'],\n",
    "                'age':[22,23,23]\n",
    "                }\n",
    "learner_details"
   ]
  },
  {
   "cell_type": "code",
   "execution_count": 36,
   "id": "0475393a",
   "metadata": {},
   "outputs": [],
   "source": [
    "import pandas as pd"
   ]
  },
  {
   "cell_type": "code",
   "execution_count": 37,
   "id": "baf27d27",
   "metadata": {},
   "outputs": [
    {
     "data": {
      "text/html": [
       "<div>\n",
       "<style scoped>\n",
       "    .dataframe tbody tr th:only-of-type {\n",
       "        vertical-align: middle;\n",
       "    }\n",
       "\n",
       "    .dataframe tbody tr th {\n",
       "        vertical-align: top;\n",
       "    }\n",
       "\n",
       "    .dataframe thead th {\n",
       "        text-align: right;\n",
       "    }\n",
       "</style>\n",
       "<table border=\"1\" class=\"dataframe\">\n",
       "  <thead>\n",
       "    <tr style=\"text-align: right;\">\n",
       "      <th></th>\n",
       "      <th>fname</th>\n",
       "      <th>lname</th>\n",
       "      <th>age</th>\n",
       "    </tr>\n",
       "  </thead>\n",
       "  <tbody>\n",
       "    <tr>\n",
       "      <th>0</th>\n",
       "      <td>Jayanth</td>\n",
       "      <td>MS</td>\n",
       "      <td>22</td>\n",
       "    </tr>\n",
       "    <tr>\n",
       "      <th>1</th>\n",
       "      <td>Akhila</td>\n",
       "      <td>Hegde</td>\n",
       "      <td>23</td>\n",
       "    </tr>\n",
       "    <tr>\n",
       "      <th>2</th>\n",
       "      <td>Rumana</td>\n",
       "      <td>Patel</td>\n",
       "      <td>23</td>\n",
       "    </tr>\n",
       "  </tbody>\n",
       "</table>\n",
       "</div>"
      ],
      "text/plain": [
       "     fname  lname  age\n",
       "0  Jayanth     MS   22\n",
       "1   Akhila  Hegde   23\n",
       "2   Rumana  Patel   23"
      ]
     },
     "execution_count": 37,
     "metadata": {},
     "output_type": "execute_result"
    }
   ],
   "source": [
    "pd.DataFrame(learner_details)"
   ]
  },
  {
   "cell_type": "code",
   "execution_count": 38,
   "id": "9bdf0911",
   "metadata": {},
   "outputs": [
    {
     "data": {
      "text/plain": [
       "{'fname': 'Akhila', 'lname': 'MS', 'age': 22}"
      ]
     },
     "execution_count": 38,
     "metadata": {},
     "output_type": "execute_result"
    }
   ],
   "source": [
    "# Overwrite values if we duplicate keys\n",
    "learner_details={'fname':'Jayanth',\n",
    "                'lname':'MS',\n",
    "                'age':22,\n",
    "                 'fname':'Akhila'\n",
    "                }\n",
    "learner_details"
   ]
  },
  {
   "cell_type": "code",
   "execution_count": 39,
   "id": "b9a8614f",
   "metadata": {},
   "outputs": [
    {
     "data": {
      "text/plain": [
       "{'fname': 'Jayanth', 'lname': 'MS', 'age': 22, 'Marks': 22}"
      ]
     },
     "execution_count": 39,
     "metadata": {},
     "output_type": "execute_result"
    }
   ],
   "source": [
    "learner_details={'fname':'Jayanth',\n",
    "                'lname':'MS',\n",
    "                'age':22,\n",
    "                 'Marks':22\n",
    "                }\n",
    "learner_details"
   ]
  },
  {
   "cell_type": "markdown",
   "id": "79a58fbb",
   "metadata": {},
   "source": [
    "#### The End"
   ]
  }
 ],
 "metadata": {
  "kernelspec": {
   "display_name": "Python 3",
   "language": "python",
   "name": "python3"
  },
  "language_info": {
   "codemirror_mode": {
    "name": "ipython",
    "version": 3
   },
   "file_extension": ".py",
   "mimetype": "text/x-python",
   "name": "python",
   "nbconvert_exporter": "python",
   "pygments_lexer": "ipython3",
   "version": "3.8.8"
  }
 },
 "nbformat": 4,
 "nbformat_minor": 5
}
